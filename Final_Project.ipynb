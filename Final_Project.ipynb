{
  "nbformat": 4,
  "nbformat_minor": 0,
  "metadata": {
    "colab": {
      "name": "Final Project with edits.ipynb",
      "version": "0.3.2",
      "provenance": [],
      "collapsed_sections": [],
      "toc_visible": true
    },
    "kernelspec": {
      "name": "python3",
      "display_name": "Python 3"
    },
    "accelerator": "GPU"
  },
  "cells": [
    {
      "metadata": {
        "id": "jDd-rXStkDGr",
        "colab_type": "text"
      },
      "cell_type": "markdown",
      "source": [
        "#Abstract"
      ]
    },
    {
      "metadata": {
        "id": "2KmTeqYhT3PO",
        "colab_type": "text"
      },
      "cell_type": "markdown",
      "source": [
        "The purpose of this analysis is to look into the Poker Hand Data set and analyze the strenght of each hand as a classification exercise. This dataset has already been devided into two sets of train and test dataset. Hence there is no need to split the data before starting the analysis.\n",
        "\n",
        "UCI Machine Leaning Repository describes the dataset as following:\n",
        "\n",
        "\"Each record is an example of a hand consisting of five playing cards drawn from a standard deck of 52. Each card is described using two attributes (suit and rank), for a total of 10 predictive attributes. There is one Class attribute that describes the Poker Hand. The order of cards is important, which is why there are 480 possible Royal Flush hands as compared to 4.\n",
        "\n",
        "\n",
        "Attribute Information:\n",
        "\n",
        "1) S1 \"Suit of card #1\" \n",
        "Ordinal (1-4) representing {Hearts, Spades, Diamonds, Clubs} \n",
        "\n",
        "2) C1 \"Rank of card #1\" \n",
        "Numerical (1-13) representing (Ace, 2, 3, ... , Queen, King) \n",
        "\n",
        "3) S2 \"Suit of card #2\" \n",
        "Ordinal (1-4) representing {Hearts, Spades, Diamonds, Clubs} \n",
        "\n",
        "4) C2 \"Rank of card #2\" \n",
        "Numerical (1-13) representing (Ace, 2, 3, ... , Queen, King) \n",
        "\n",
        "5) S3 \"Suit of card #3\" \n",
        "Ordinal (1-4) representing {Hearts, Spades, Diamonds, Clubs} \n",
        "\n",
        "6) C3 \"Rank of card #3\" \n",
        "Numerical (1-13) representing (Ace, 2, 3, ... , Queen, King) \n",
        "\n",
        "7) S4 \"Suit of card #4\" \n",
        "Ordinal (1-4) representing {Hearts, Spades, Diamonds, Clubs} \n",
        "\n",
        "8) C4 \"Rank of card #4\" \n",
        "Numerical (1-13) representing (Ace, 2, 3, ... , Queen, King) \n",
        "\n",
        "9) S5 \"Suit of card #5\" \n",
        "Ordinal (1-4) representing {Hearts, Spades, Diamonds, Clubs} \n",
        "\n",
        "10) C5 \"Rank of card 5\" \n",
        "Numerical (1-13) representing (Ace, 2, 3, ... , Queen, King) \n",
        "\n",
        "11) CLASS \"Poker Hand\" \n",
        "Ordinal (0-9) \n",
        "\n",
        "0: Nothing in hand; not a recognized poker hand \n",
        "1: One pair; one pair of equal ranks within five cards \n",
        "2: Two pairs; two pairs of equal ranks within five cards \n",
        "3: Three of a kind; three equal ranks within five cards \n",
        "4: Straight; five cards, sequentially ranked with no gaps \n",
        "5: Flush; five cards with the same suit \n",
        "6: Full house; pair + different rank three of a kind \n",
        "7: Four of a kind; four equal ranks within five cards \n",
        "8: Straight flush; straight + flush \n",
        "9: Royal flush; {Ace, King, Queen, Jack, Ten} + flush\" \n",
        "\n",
        "We first started with Data Preparation and Pre-prediction Exploratory Data Analysis. For that we made use of functions such as “describe( )” which helps to view some basic statiscital details of our data set, “shape” which returns the dimesions of our dataset, “info” which gives the summary of our dataset and “head( )” which shows the data of the top five rows from our dataset.\n",
        "We have also plotted the histogram for each of our test and train dataset. The results of this exploratory analysis allowed us to become familiar with our dataset before starting the pipeline process.\n",
        "\n",
        "\n",
        "To build the pipeline, the data were normalized using “StandardScaler( )”.\n",
        "This function helps us to make sure that all of our dataset features have the same weight and importance.\n",
        "\n",
        "Since the category membership of our dataset is known, we are going to use the classification technique on our dataset. We have used models such KNN, SVM, RandomForest, Adaboost, Gradient Boosting and Bagging to analyze the dataset, find their accuracy and predict the labels.\n",
        "\n",
        "Before fitting the data into the models, hyperparameters were used to train the data even more effectively.\n",
        "\n",
        "The accuracy of each model was plotted and the results show that MLP has the highest acuuracy to predicate the correct strength of the poker hand compared to other models that we have used."
      ]
    },
    {
      "metadata": {
        "id": "uVORqjzSUAIK",
        "colab_type": "code",
        "colab": {}
      },
      "cell_type": "code",
      "source": [
        "import pandas as pd\n",
        "import numpy as np\n",
        "from sklearn import tree, svm\n",
        "from sklearn.metrics import accuracy_score, classification_report,confusion_matrix\n",
        "from sklearn.preprocessing import StandardScaler\n",
        "from sklearn.neighbors import KNeighborsClassifier\n",
        "from sklearn.ensemble import RandomForestClassifier, AdaBoostClassifier, BaggingClassifier, GradientBoostingClassifier\n",
        "import matplotlib.pyplot as plt\n",
        "from sklearn.model_selection import GridSearchCV, train_test_split\n",
        "from sklearn.model_selection import cross_val_score\n",
        "from sklearn.model_selection import RandomizedSearchCV\n",
        "from sklearn.svm import SVC\n",
        "from sklearn.model_selection import cross_val_score\n",
        "from sklearn.metrics import accuracy_score, precision_score, recall_score, f1_score, confusion_matrix\n",
        "from sklearn.tree import DecisionTreeClassifier"
      ],
      "execution_count": 0,
      "outputs": []
    },
    {
      "metadata": {
        "colab_type": "code",
        "id": "uqwBCZG7g_Fo",
        "colab": {}
      },
      "cell_type": "code",
      "source": [
        "#load in test/train datasets\n",
        "train = pd.read_csv('https://archive.ics.uci.edu/ml/machine-learning-databases/poker/poker-hand-training-true.data', header=None)\n",
        "test = pd.read_csv('https://archive.ics.uci.edu/ml/machine-learning-databases/poker/poker-hand-testing.data', header=None)\n"
      ],
      "execution_count": 0,
      "outputs": []
    },
    {
      "metadata": {
        "colab_type": "code",
        "id": "v7LEkxTAg_RK",
        "colab": {}
      },
      "cell_type": "code",
      "source": [
        "#create column headers\n",
        "train.columns = ['S1', 'C1','S2', 'C2','S3', 'C3','S4', 'C4','S5', 'C5','Label']\n",
        "test.columns = ['S1', 'C1','S2', 'C2','S3', 'C3','S4', 'C4','S5', 'C5','Label']"
      ],
      "execution_count": 0,
      "outputs": []
    },
    {
      "metadata": {
        "id": "KizTbHzikWgA",
        "colab_type": "text"
      },
      "cell_type": "markdown",
      "source": [
        "#Train set inspection"
      ]
    },
    {
      "metadata": {
        "colab_type": "code",
        "id": "NtBJTVOpgsH_",
        "outputId": "f2ddb195-cdc3-4b04-f3f8-b48b4784f758",
        "colab": {
          "base_uri": "https://localhost:8080/",
          "height": 204
        }
      },
      "cell_type": "code",
      "source": [
        "train.head()"
      ],
      "execution_count": 0,
      "outputs": [
        {
          "output_type": "execute_result",
          "data": {
            "text/html": [
              "<div>\n",
              "<style scoped>\n",
              "    .dataframe tbody tr th:only-of-type {\n",
              "        vertical-align: middle;\n",
              "    }\n",
              "\n",
              "    .dataframe tbody tr th {\n",
              "        vertical-align: top;\n",
              "    }\n",
              "\n",
              "    .dataframe thead th {\n",
              "        text-align: right;\n",
              "    }\n",
              "</style>\n",
              "<table border=\"1\" class=\"dataframe\">\n",
              "  <thead>\n",
              "    <tr style=\"text-align: right;\">\n",
              "      <th></th>\n",
              "      <th>S1</th>\n",
              "      <th>C1</th>\n",
              "      <th>S2</th>\n",
              "      <th>C2</th>\n",
              "      <th>S3</th>\n",
              "      <th>C3</th>\n",
              "      <th>S4</th>\n",
              "      <th>C4</th>\n",
              "      <th>S5</th>\n",
              "      <th>C5</th>\n",
              "      <th>Label</th>\n",
              "    </tr>\n",
              "  </thead>\n",
              "  <tbody>\n",
              "    <tr>\n",
              "      <th>0</th>\n",
              "      <td>1</td>\n",
              "      <td>10</td>\n",
              "      <td>1</td>\n",
              "      <td>11</td>\n",
              "      <td>1</td>\n",
              "      <td>13</td>\n",
              "      <td>1</td>\n",
              "      <td>12</td>\n",
              "      <td>1</td>\n",
              "      <td>1</td>\n",
              "      <td>9</td>\n",
              "    </tr>\n",
              "    <tr>\n",
              "      <th>1</th>\n",
              "      <td>2</td>\n",
              "      <td>11</td>\n",
              "      <td>2</td>\n",
              "      <td>13</td>\n",
              "      <td>2</td>\n",
              "      <td>10</td>\n",
              "      <td>2</td>\n",
              "      <td>12</td>\n",
              "      <td>2</td>\n",
              "      <td>1</td>\n",
              "      <td>9</td>\n",
              "    </tr>\n",
              "    <tr>\n",
              "      <th>2</th>\n",
              "      <td>3</td>\n",
              "      <td>12</td>\n",
              "      <td>3</td>\n",
              "      <td>11</td>\n",
              "      <td>3</td>\n",
              "      <td>13</td>\n",
              "      <td>3</td>\n",
              "      <td>10</td>\n",
              "      <td>3</td>\n",
              "      <td>1</td>\n",
              "      <td>9</td>\n",
              "    </tr>\n",
              "    <tr>\n",
              "      <th>3</th>\n",
              "      <td>4</td>\n",
              "      <td>10</td>\n",
              "      <td>4</td>\n",
              "      <td>11</td>\n",
              "      <td>4</td>\n",
              "      <td>1</td>\n",
              "      <td>4</td>\n",
              "      <td>13</td>\n",
              "      <td>4</td>\n",
              "      <td>12</td>\n",
              "      <td>9</td>\n",
              "    </tr>\n",
              "    <tr>\n",
              "      <th>4</th>\n",
              "      <td>4</td>\n",
              "      <td>1</td>\n",
              "      <td>4</td>\n",
              "      <td>13</td>\n",
              "      <td>4</td>\n",
              "      <td>12</td>\n",
              "      <td>4</td>\n",
              "      <td>11</td>\n",
              "      <td>4</td>\n",
              "      <td>10</td>\n",
              "      <td>9</td>\n",
              "    </tr>\n",
              "  </tbody>\n",
              "</table>\n",
              "</div>"
            ],
            "text/plain": [
              "   S1  C1  S2  C2  S3  C3  S4  C4  S5  C5  Label\n",
              "0   1  10   1  11   1  13   1  12   1   1      9\n",
              "1   2  11   2  13   2  10   2  12   2   1      9\n",
              "2   3  12   3  11   3  13   3  10   3   1      9\n",
              "3   4  10   4  11   4   1   4  13   4  12      9\n",
              "4   4   1   4  13   4  12   4  11   4  10      9"
            ]
          },
          "metadata": {
            "tags": []
          },
          "execution_count": 5
        }
      ]
    },
    {
      "metadata": {
        "colab_type": "code",
        "id": "r1PlroJWlYS2",
        "outputId": "a8f2f8bd-8b70-4bb1-8057-b4b57607fbcc",
        "colab": {
          "base_uri": "https://localhost:8080/",
          "height": 289
        }
      },
      "cell_type": "code",
      "source": [
        "train.info()"
      ],
      "execution_count": 0,
      "outputs": [
        {
          "output_type": "stream",
          "text": [
            "<class 'pandas.core.frame.DataFrame'>\n",
            "RangeIndex: 25010 entries, 0 to 25009\n",
            "Data columns (total 11 columns):\n",
            "S1       25010 non-null int64\n",
            "C1       25010 non-null int64\n",
            "S2       25010 non-null int64\n",
            "C2       25010 non-null int64\n",
            "S3       25010 non-null int64\n",
            "C3       25010 non-null int64\n",
            "S4       25010 non-null int64\n",
            "C4       25010 non-null int64\n",
            "S5       25010 non-null int64\n",
            "C5       25010 non-null int64\n",
            "Label    25010 non-null int64\n",
            "dtypes: int64(11)\n",
            "memory usage: 2.1 MB\n"
          ],
          "name": "stdout"
        }
      ]
    },
    {
      "metadata": {
        "colab_type": "code",
        "id": "U-CLizp2mqBN",
        "outputId": "a49cf576-e1a8-42ce-8961-777e73a20b7f",
        "colab": {
          "base_uri": "https://localhost:8080/",
          "height": 297
        }
      },
      "cell_type": "code",
      "source": [
        "train.describe()"
      ],
      "execution_count": 0,
      "outputs": [
        {
          "output_type": "execute_result",
          "data": {
            "text/html": [
              "<div>\n",
              "<style scoped>\n",
              "    .dataframe tbody tr th:only-of-type {\n",
              "        vertical-align: middle;\n",
              "    }\n",
              "\n",
              "    .dataframe tbody tr th {\n",
              "        vertical-align: top;\n",
              "    }\n",
              "\n",
              "    .dataframe thead th {\n",
              "        text-align: right;\n",
              "    }\n",
              "</style>\n",
              "<table border=\"1\" class=\"dataframe\">\n",
              "  <thead>\n",
              "    <tr style=\"text-align: right;\">\n",
              "      <th></th>\n",
              "      <th>S1</th>\n",
              "      <th>C1</th>\n",
              "      <th>S2</th>\n",
              "      <th>C2</th>\n",
              "      <th>S3</th>\n",
              "      <th>C3</th>\n",
              "      <th>S4</th>\n",
              "      <th>C4</th>\n",
              "      <th>S5</th>\n",
              "      <th>C5</th>\n",
              "      <th>Label</th>\n",
              "    </tr>\n",
              "  </thead>\n",
              "  <tbody>\n",
              "    <tr>\n",
              "      <th>count</th>\n",
              "      <td>25010.000000</td>\n",
              "      <td>25010.000000</td>\n",
              "      <td>25010.000000</td>\n",
              "      <td>25010.000000</td>\n",
              "      <td>25010.000000</td>\n",
              "      <td>25010.000000</td>\n",
              "      <td>25010.000000</td>\n",
              "      <td>25010.000000</td>\n",
              "      <td>25010.000000</td>\n",
              "      <td>25010.000000</td>\n",
              "      <td>25010.000000</td>\n",
              "    </tr>\n",
              "    <tr>\n",
              "      <th>mean</th>\n",
              "      <td>2.508756</td>\n",
              "      <td>6.995242</td>\n",
              "      <td>2.497721</td>\n",
              "      <td>7.014194</td>\n",
              "      <td>2.510236</td>\n",
              "      <td>7.014154</td>\n",
              "      <td>2.495922</td>\n",
              "      <td>6.942463</td>\n",
              "      <td>2.497321</td>\n",
              "      <td>6.962735</td>\n",
              "      <td>0.621152</td>\n",
              "    </tr>\n",
              "    <tr>\n",
              "      <th>std</th>\n",
              "      <td>1.116483</td>\n",
              "      <td>3.749805</td>\n",
              "      <td>1.121767</td>\n",
              "      <td>3.766974</td>\n",
              "      <td>1.123148</td>\n",
              "      <td>3.744974</td>\n",
              "      <td>1.116009</td>\n",
              "      <td>3.747147</td>\n",
              "      <td>1.118732</td>\n",
              "      <td>3.741579</td>\n",
              "      <td>0.788361</td>\n",
              "    </tr>\n",
              "    <tr>\n",
              "      <th>min</th>\n",
              "      <td>1.000000</td>\n",
              "      <td>1.000000</td>\n",
              "      <td>1.000000</td>\n",
              "      <td>1.000000</td>\n",
              "      <td>1.000000</td>\n",
              "      <td>1.000000</td>\n",
              "      <td>1.000000</td>\n",
              "      <td>1.000000</td>\n",
              "      <td>1.000000</td>\n",
              "      <td>1.000000</td>\n",
              "      <td>0.000000</td>\n",
              "    </tr>\n",
              "    <tr>\n",
              "      <th>25%</th>\n",
              "      <td>2.000000</td>\n",
              "      <td>4.000000</td>\n",
              "      <td>1.000000</td>\n",
              "      <td>4.000000</td>\n",
              "      <td>2.000000</td>\n",
              "      <td>4.000000</td>\n",
              "      <td>1.000000</td>\n",
              "      <td>4.000000</td>\n",
              "      <td>1.000000</td>\n",
              "      <td>4.000000</td>\n",
              "      <td>0.000000</td>\n",
              "    </tr>\n",
              "    <tr>\n",
              "      <th>50%</th>\n",
              "      <td>3.000000</td>\n",
              "      <td>7.000000</td>\n",
              "      <td>2.000000</td>\n",
              "      <td>7.000000</td>\n",
              "      <td>3.000000</td>\n",
              "      <td>7.000000</td>\n",
              "      <td>2.000000</td>\n",
              "      <td>7.000000</td>\n",
              "      <td>3.000000</td>\n",
              "      <td>7.000000</td>\n",
              "      <td>1.000000</td>\n",
              "    </tr>\n",
              "    <tr>\n",
              "      <th>75%</th>\n",
              "      <td>4.000000</td>\n",
              "      <td>10.000000</td>\n",
              "      <td>4.000000</td>\n",
              "      <td>10.000000</td>\n",
              "      <td>4.000000</td>\n",
              "      <td>10.000000</td>\n",
              "      <td>3.000000</td>\n",
              "      <td>10.000000</td>\n",
              "      <td>3.000000</td>\n",
              "      <td>10.000000</td>\n",
              "      <td>1.000000</td>\n",
              "    </tr>\n",
              "    <tr>\n",
              "      <th>max</th>\n",
              "      <td>4.000000</td>\n",
              "      <td>13.000000</td>\n",
              "      <td>4.000000</td>\n",
              "      <td>13.000000</td>\n",
              "      <td>4.000000</td>\n",
              "      <td>13.000000</td>\n",
              "      <td>4.000000</td>\n",
              "      <td>13.000000</td>\n",
              "      <td>4.000000</td>\n",
              "      <td>13.000000</td>\n",
              "      <td>9.000000</td>\n",
              "    </tr>\n",
              "  </tbody>\n",
              "</table>\n",
              "</div>"
            ],
            "text/plain": [
              "                 S1            C1            S2            C2            S3  \\\n",
              "count  25010.000000  25010.000000  25010.000000  25010.000000  25010.000000   \n",
              "mean       2.508756      6.995242      2.497721      7.014194      2.510236   \n",
              "std        1.116483      3.749805      1.121767      3.766974      1.123148   \n",
              "min        1.000000      1.000000      1.000000      1.000000      1.000000   \n",
              "25%        2.000000      4.000000      1.000000      4.000000      2.000000   \n",
              "50%        3.000000      7.000000      2.000000      7.000000      3.000000   \n",
              "75%        4.000000     10.000000      4.000000     10.000000      4.000000   \n",
              "max        4.000000     13.000000      4.000000     13.000000      4.000000   \n",
              "\n",
              "                 C3            S4            C4            S5            C5  \\\n",
              "count  25010.000000  25010.000000  25010.000000  25010.000000  25010.000000   \n",
              "mean       7.014154      2.495922      6.942463      2.497321      6.962735   \n",
              "std        3.744974      1.116009      3.747147      1.118732      3.741579   \n",
              "min        1.000000      1.000000      1.000000      1.000000      1.000000   \n",
              "25%        4.000000      1.000000      4.000000      1.000000      4.000000   \n",
              "50%        7.000000      2.000000      7.000000      3.000000      7.000000   \n",
              "75%       10.000000      3.000000     10.000000      3.000000     10.000000   \n",
              "max       13.000000      4.000000     13.000000      4.000000     13.000000   \n",
              "\n",
              "              Label  \n",
              "count  25010.000000  \n",
              "mean       0.621152  \n",
              "std        0.788361  \n",
              "min        0.000000  \n",
              "25%        0.000000  \n",
              "50%        1.000000  \n",
              "75%        1.000000  \n",
              "max        9.000000  "
            ]
          },
          "metadata": {
            "tags": []
          },
          "execution_count": 7
        }
      ]
    },
    {
      "metadata": {
        "colab_type": "code",
        "id": "JaXHy3ycrVgS",
        "outputId": "0dc8c74b-51e8-4c88-ca82-f75d08ca58f1",
        "colab": {
          "base_uri": "https://localhost:8080/",
          "height": 34
        }
      },
      "cell_type": "code",
      "source": [
        "train.shape"
      ],
      "execution_count": 0,
      "outputs": [
        {
          "output_type": "execute_result",
          "data": {
            "text/plain": [
              "(25010, 11)"
            ]
          },
          "metadata": {
            "tags": []
          },
          "execution_count": 8
        }
      ]
    },
    {
      "metadata": {
        "id": "zq6tzKvokiYx",
        "colab_type": "text"
      },
      "cell_type": "markdown",
      "source": [
        "#Test set inspection"
      ]
    },
    {
      "metadata": {
        "colab_type": "code",
        "id": "VSNOFjD1mqj-",
        "outputId": "b58c5462-f9e6-4305-b850-6eeab37e89a5",
        "colab": {
          "base_uri": "https://localhost:8080/",
          "height": 204
        }
      },
      "cell_type": "code",
      "source": [
        "test.head()"
      ],
      "execution_count": 0,
      "outputs": [
        {
          "output_type": "execute_result",
          "data": {
            "text/html": [
              "<div>\n",
              "<style scoped>\n",
              "    .dataframe tbody tr th:only-of-type {\n",
              "        vertical-align: middle;\n",
              "    }\n",
              "\n",
              "    .dataframe tbody tr th {\n",
              "        vertical-align: top;\n",
              "    }\n",
              "\n",
              "    .dataframe thead th {\n",
              "        text-align: right;\n",
              "    }\n",
              "</style>\n",
              "<table border=\"1\" class=\"dataframe\">\n",
              "  <thead>\n",
              "    <tr style=\"text-align: right;\">\n",
              "      <th></th>\n",
              "      <th>S1</th>\n",
              "      <th>C1</th>\n",
              "      <th>S2</th>\n",
              "      <th>C2</th>\n",
              "      <th>S3</th>\n",
              "      <th>C3</th>\n",
              "      <th>S4</th>\n",
              "      <th>C4</th>\n",
              "      <th>S5</th>\n",
              "      <th>C5</th>\n",
              "      <th>Label</th>\n",
              "    </tr>\n",
              "  </thead>\n",
              "  <tbody>\n",
              "    <tr>\n",
              "      <th>0</th>\n",
              "      <td>1</td>\n",
              "      <td>1</td>\n",
              "      <td>1</td>\n",
              "      <td>13</td>\n",
              "      <td>2</td>\n",
              "      <td>4</td>\n",
              "      <td>2</td>\n",
              "      <td>3</td>\n",
              "      <td>1</td>\n",
              "      <td>12</td>\n",
              "      <td>0</td>\n",
              "    </tr>\n",
              "    <tr>\n",
              "      <th>1</th>\n",
              "      <td>3</td>\n",
              "      <td>12</td>\n",
              "      <td>3</td>\n",
              "      <td>2</td>\n",
              "      <td>3</td>\n",
              "      <td>11</td>\n",
              "      <td>4</td>\n",
              "      <td>5</td>\n",
              "      <td>2</td>\n",
              "      <td>5</td>\n",
              "      <td>1</td>\n",
              "    </tr>\n",
              "    <tr>\n",
              "      <th>2</th>\n",
              "      <td>1</td>\n",
              "      <td>9</td>\n",
              "      <td>4</td>\n",
              "      <td>6</td>\n",
              "      <td>1</td>\n",
              "      <td>4</td>\n",
              "      <td>3</td>\n",
              "      <td>2</td>\n",
              "      <td>3</td>\n",
              "      <td>9</td>\n",
              "      <td>1</td>\n",
              "    </tr>\n",
              "    <tr>\n",
              "      <th>3</th>\n",
              "      <td>1</td>\n",
              "      <td>4</td>\n",
              "      <td>3</td>\n",
              "      <td>13</td>\n",
              "      <td>2</td>\n",
              "      <td>13</td>\n",
              "      <td>2</td>\n",
              "      <td>1</td>\n",
              "      <td>3</td>\n",
              "      <td>6</td>\n",
              "      <td>1</td>\n",
              "    </tr>\n",
              "    <tr>\n",
              "      <th>4</th>\n",
              "      <td>3</td>\n",
              "      <td>10</td>\n",
              "      <td>2</td>\n",
              "      <td>7</td>\n",
              "      <td>1</td>\n",
              "      <td>2</td>\n",
              "      <td>2</td>\n",
              "      <td>11</td>\n",
              "      <td>4</td>\n",
              "      <td>9</td>\n",
              "      <td>0</td>\n",
              "    </tr>\n",
              "  </tbody>\n",
              "</table>\n",
              "</div>"
            ],
            "text/plain": [
              "   S1  C1  S2  C2  S3  C3  S4  C4  S5  C5  Label\n",
              "0   1   1   1  13   2   4   2   3   1  12      0\n",
              "1   3  12   3   2   3  11   4   5   2   5      1\n",
              "2   1   9   4   6   1   4   3   2   3   9      1\n",
              "3   1   4   3  13   2  13   2   1   3   6      1\n",
              "4   3  10   2   7   1   2   2  11   4   9      0"
            ]
          },
          "metadata": {
            "tags": []
          },
          "execution_count": 9
        }
      ]
    },
    {
      "metadata": {
        "colab_type": "code",
        "id": "LR5pERWTmqly",
        "outputId": "ba1dd119-9d9e-4279-c904-3d1453f1a1b1",
        "colab": {
          "base_uri": "https://localhost:8080/",
          "height": 289
        }
      },
      "cell_type": "code",
      "source": [
        "test.info()"
      ],
      "execution_count": 0,
      "outputs": [
        {
          "output_type": "stream",
          "text": [
            "<class 'pandas.core.frame.DataFrame'>\n",
            "RangeIndex: 1000000 entries, 0 to 999999\n",
            "Data columns (total 11 columns):\n",
            "S1       1000000 non-null int64\n",
            "C1       1000000 non-null int64\n",
            "S2       1000000 non-null int64\n",
            "C2       1000000 non-null int64\n",
            "S3       1000000 non-null int64\n",
            "C3       1000000 non-null int64\n",
            "S4       1000000 non-null int64\n",
            "C4       1000000 non-null int64\n",
            "S5       1000000 non-null int64\n",
            "C5       1000000 non-null int64\n",
            "Label    1000000 non-null int64\n",
            "dtypes: int64(11)\n",
            "memory usage: 83.9 MB\n"
          ],
          "name": "stdout"
        }
      ]
    },
    {
      "metadata": {
        "colab_type": "code",
        "id": "rfP02gozrRBR",
        "outputId": "46da0667-38c1-4882-bb15-e8719155a646",
        "colab": {
          "base_uri": "https://localhost:8080/",
          "height": 317
        }
      },
      "cell_type": "code",
      "source": [
        "test.describe()"
      ],
      "execution_count": 0,
      "outputs": [
        {
          "output_type": "execute_result",
          "data": {
            "text/html": [
              "<div>\n",
              "<style scoped>\n",
              "    .dataframe tbody tr th:only-of-type {\n",
              "        vertical-align: middle;\n",
              "    }\n",
              "\n",
              "    .dataframe tbody tr th {\n",
              "        vertical-align: top;\n",
              "    }\n",
              "\n",
              "    .dataframe thead th {\n",
              "        text-align: right;\n",
              "    }\n",
              "</style>\n",
              "<table border=\"1\" class=\"dataframe\">\n",
              "  <thead>\n",
              "    <tr style=\"text-align: right;\">\n",
              "      <th></th>\n",
              "      <th>S1</th>\n",
              "      <th>C1</th>\n",
              "      <th>S2</th>\n",
              "      <th>C2</th>\n",
              "      <th>S3</th>\n",
              "      <th>C3</th>\n",
              "      <th>S4</th>\n",
              "      <th>C4</th>\n",
              "      <th>S5</th>\n",
              "      <th>C5</th>\n",
              "      <th>Label</th>\n",
              "    </tr>\n",
              "  </thead>\n",
              "  <tbody>\n",
              "    <tr>\n",
              "      <th>count</th>\n",
              "      <td>1000000.000000</td>\n",
              "      <td>1000000.000000</td>\n",
              "      <td>1000000.000000</td>\n",
              "      <td>1000000.000000</td>\n",
              "      <td>1000000.000000</td>\n",
              "      <td>1000000.000000</td>\n",
              "      <td>1000000.000000</td>\n",
              "      <td>1000000.000000</td>\n",
              "      <td>1000000.000000</td>\n",
              "      <td>1000000.000000</td>\n",
              "      <td>1000000.000000</td>\n",
              "    </tr>\n",
              "    <tr>\n",
              "      <th>mean</th>\n",
              "      <td>2.500493</td>\n",
              "      <td>6.997927</td>\n",
              "      <td>2.499894</td>\n",
              "      <td>7.006097</td>\n",
              "      <td>2.500871</td>\n",
              "      <td>6.998873</td>\n",
              "      <td>2.500393</td>\n",
              "      <td>7.002298</td>\n",
              "      <td>2.499451</td>\n",
              "      <td>6.989481</td>\n",
              "      <td>0.616902</td>\n",
              "    </tr>\n",
              "    <tr>\n",
              "      <th>std</th>\n",
              "      <td>1.117768</td>\n",
              "      <td>3.743374</td>\n",
              "      <td>1.118568</td>\n",
              "      <td>3.743481</td>\n",
              "      <td>1.118225</td>\n",
              "      <td>3.741890</td>\n",
              "      <td>1.117245</td>\n",
              "      <td>3.741270</td>\n",
              "      <td>1.118948</td>\n",
              "      <td>3.739894</td>\n",
              "      <td>0.773377</td>\n",
              "    </tr>\n",
              "    <tr>\n",
              "      <th>min</th>\n",
              "      <td>1.000000</td>\n",
              "      <td>1.000000</td>\n",
              "      <td>1.000000</td>\n",
              "      <td>1.000000</td>\n",
              "      <td>1.000000</td>\n",
              "      <td>1.000000</td>\n",
              "      <td>1.000000</td>\n",
              "      <td>1.000000</td>\n",
              "      <td>1.000000</td>\n",
              "      <td>1.000000</td>\n",
              "      <td>0.000000</td>\n",
              "    </tr>\n",
              "    <tr>\n",
              "      <th>25%</th>\n",
              "      <td>2.000000</td>\n",
              "      <td>4.000000</td>\n",
              "      <td>1.000000</td>\n",
              "      <td>4.000000</td>\n",
              "      <td>1.000000</td>\n",
              "      <td>4.000000</td>\n",
              "      <td>2.000000</td>\n",
              "      <td>4.000000</td>\n",
              "      <td>1.000000</td>\n",
              "      <td>4.000000</td>\n",
              "      <td>0.000000</td>\n",
              "    </tr>\n",
              "    <tr>\n",
              "      <th>50%</th>\n",
              "      <td>3.000000</td>\n",
              "      <td>7.000000</td>\n",
              "      <td>3.000000</td>\n",
              "      <td>7.000000</td>\n",
              "      <td>3.000000</td>\n",
              "      <td>7.000000</td>\n",
              "      <td>3.000000</td>\n",
              "      <td>7.000000</td>\n",
              "      <td>2.000000</td>\n",
              "      <td>7.000000</td>\n",
              "      <td>0.000000</td>\n",
              "    </tr>\n",
              "    <tr>\n",
              "      <th>75%</th>\n",
              "      <td>3.000000</td>\n",
              "      <td>10.000000</td>\n",
              "      <td>4.000000</td>\n",
              "      <td>10.000000</td>\n",
              "      <td>4.000000</td>\n",
              "      <td>10.000000</td>\n",
              "      <td>3.000000</td>\n",
              "      <td>10.000000</td>\n",
              "      <td>4.000000</td>\n",
              "      <td>10.000000</td>\n",
              "      <td>1.000000</td>\n",
              "    </tr>\n",
              "    <tr>\n",
              "      <th>max</th>\n",
              "      <td>4.000000</td>\n",
              "      <td>13.000000</td>\n",
              "      <td>4.000000</td>\n",
              "      <td>13.000000</td>\n",
              "      <td>4.000000</td>\n",
              "      <td>13.000000</td>\n",
              "      <td>4.000000</td>\n",
              "      <td>13.000000</td>\n",
              "      <td>4.000000</td>\n",
              "      <td>13.000000</td>\n",
              "      <td>9.000000</td>\n",
              "    </tr>\n",
              "  </tbody>\n",
              "</table>\n",
              "</div>"
            ],
            "text/plain": [
              "                   S1              C1              S2              C2  \\\n",
              "count  1000000.000000  1000000.000000  1000000.000000  1000000.000000   \n",
              "mean         2.500493        6.997927        2.499894        7.006097   \n",
              "std          1.117768        3.743374        1.118568        3.743481   \n",
              "min          1.000000        1.000000        1.000000        1.000000   \n",
              "25%          2.000000        4.000000        1.000000        4.000000   \n",
              "50%          3.000000        7.000000        3.000000        7.000000   \n",
              "75%          3.000000       10.000000        4.000000       10.000000   \n",
              "max          4.000000       13.000000        4.000000       13.000000   \n",
              "\n",
              "                   S3              C3              S4              C4  \\\n",
              "count  1000000.000000  1000000.000000  1000000.000000  1000000.000000   \n",
              "mean         2.500871        6.998873        2.500393        7.002298   \n",
              "std          1.118225        3.741890        1.117245        3.741270   \n",
              "min          1.000000        1.000000        1.000000        1.000000   \n",
              "25%          1.000000        4.000000        2.000000        4.000000   \n",
              "50%          3.000000        7.000000        3.000000        7.000000   \n",
              "75%          4.000000       10.000000        3.000000       10.000000   \n",
              "max          4.000000       13.000000        4.000000       13.000000   \n",
              "\n",
              "                   S5              C5           Label  \n",
              "count  1000000.000000  1000000.000000  1000000.000000  \n",
              "mean         2.499451        6.989481        0.616902  \n",
              "std          1.118948        3.739894        0.773377  \n",
              "min          1.000000        1.000000        0.000000  \n",
              "25%          1.000000        4.000000        0.000000  \n",
              "50%          2.000000        7.000000        0.000000  \n",
              "75%          4.000000       10.000000        1.000000  \n",
              "max          4.000000       13.000000        9.000000  "
            ]
          },
          "metadata": {
            "tags": []
          },
          "execution_count": 11
        }
      ]
    },
    {
      "metadata": {
        "colab_type": "code",
        "id": "OwTTk9Kgn5wb",
        "outputId": "52476b4f-8f21-46fb-cf3e-8d77922069f2",
        "colab": {
          "base_uri": "https://localhost:8080/",
          "height": 34
        }
      },
      "cell_type": "code",
      "source": [
        "test.shape\n"
      ],
      "execution_count": 0,
      "outputs": [
        {
          "output_type": "execute_result",
          "data": {
            "text/plain": [
              "(1000000, 11)"
            ]
          },
          "metadata": {
            "tags": []
          },
          "execution_count": 13
        }
      ]
    },
    {
      "metadata": {
        "colab_type": "code",
        "id": "Zz9qtx1ln5y1",
        "outputId": "2b6441da-7f6a-454a-f679-6c15332e6db6",
        "colab": {
          "base_uri": "https://localhost:8080/",
          "height": 286
        }
      },
      "cell_type": "code",
      "source": [
        "train['Label'].hist()"
      ],
      "execution_count": 0,
      "outputs": [
        {
          "output_type": "execute_result",
          "data": {
            "text/plain": [
              "<matplotlib.axes._subplots.AxesSubplot at 0x7f6f923838d0>"
            ]
          },
          "metadata": {
            "tags": []
          },
          "execution_count": 14
        },
        {
          "output_type": "display_data",
          "data": {
            "image/png": "[encoded data removed]",
            "text/plain": [
              "<Figure size 432x288 with 1 Axes>"
            ]
          },
          "metadata": {
            "tags": []
          }
        }
      ]
    },
    {
      "metadata": {
        "colab_type": "code",
        "id": "KS36lDj3n51J",
        "outputId": "a471cf6c-8ebc-4f12-8dc2-e9cfdda3bc96",
        "colab": {
          "base_uri": "https://localhost:8080/",
          "height": 286
        }
      },
      "cell_type": "code",
      "source": [
        "test['Label'].hist()"
      ],
      "execution_count": 0,
      "outputs": [
        {
          "output_type": "execute_result",
          "data": {
            "text/plain": [
              "<matplotlib.axes._subplots.AxesSubplot at 0x7f6f902c1a58>"
            ]
          },
          "metadata": {
            "tags": []
          },
          "execution_count": 15
        },
        {
          "output_type": "display_data",
          "data": {
            "image/png": "[encoded data removed]",
            "text/plain": [
              "<Figure size 432x288 with 1 Axes>"
            ]
          },
          "metadata": {
            "tags": []
          }
        }
      ]
    },
    {
      "metadata": {
        "colab_type": "text",
        "id": "9Zb6VsaxsBqy"
      },
      "cell_type": "markdown",
      "source": [
        "#Extract features and labels\n"
      ]
    },
    {
      "metadata": {
        "colab_type": "code",
        "id": "S6WBudByoCVy",
        "colab": {}
      },
      "cell_type": "code",
      "source": [
        "X_train = train.loc[:,train.columns != 'Label']\n",
        "X_test = test.loc[:,test.columns != 'Label']"
      ],
      "execution_count": 0,
      "outputs": []
    },
    {
      "metadata": {
        "colab_type": "text",
        "id": "xn37ix9JsNS-"
      },
      "cell_type": "markdown",
      "source": [
        "###Scaling the Data\n"
      ]
    },
    {
      "metadata": {
        "colab_type": "code",
        "id": "5lbELu_yoNJU",
        "outputId": "bebd2e43-e2a7-4259-c653-972a0ece925f",
        "colab": {
          "base_uri": "https://localhost:8080/",
          "height": 119
        }
      },
      "cell_type": "code",
      "source": [
        "scaler = StandardScaler()\n",
        "\n",
        "# Fit only to the training data\n",
        "scaler.fit(X_train)  \n",
        "\n",
        "# Transform the training and testing data\n",
        "X_train = scaler.transform(X_train)\n",
        "X_test = scaler.transform(X_test)\n",
        "y_train = train['Label']\n",
        "y_test = test['Label']\n"
      ],
      "execution_count": 0,
      "outputs": [
        {
          "output_type": "stream",
          "text": [
            "/usr/local/lib/python3.6/dist-packages/sklearn/preprocessing/data.py:645: DataConversionWarning: Data with input dtype int64 were all converted to float64 by StandardScaler.\n",
            "  return self.partial_fit(X, y)\n",
            "/usr/local/lib/python3.6/dist-packages/ipykernel_launcher.py:7: DataConversionWarning: Data with input dtype int64 were all converted to float64 by StandardScaler.\n",
            "  import sys\n",
            "/usr/local/lib/python3.6/dist-packages/ipykernel_launcher.py:8: DataConversionWarning: Data with input dtype int64 were all converted to float64 by StandardScaler.\n",
            "  \n"
          ],
          "name": "stderr"
        }
      ]
    },
    {
      "metadata": {
        "colab_type": "text",
        "id": "kGgeI782zA_q"
      },
      "cell_type": "markdown",
      "source": [
        "###KNearestNeighbours"
      ]
    },
    {
      "metadata": {
        "id": "Ca9xxkL3slk3",
        "colab_type": "text"
      },
      "cell_type": "markdown",
      "source": [
        "Another model that we decided to investigate for this classification model is the K-Nearest Neighbor. We used the param_grids hyperparameters of n_neighbors 'leaf_size' and ‘n_jobs'. Also we tested 2 cross validations of CV=3 and 10 for this model and it resulted in CV=10 providing slightly better accuracy."
      ]
    },
    {
      "metadata": {
        "id": "apyO9RvprSu2",
        "colab_type": "text"
      },
      "cell_type": "markdown",
      "source": [
        "**CV=3**"
      ]
    },
    {
      "metadata": {
        "colab_type": "code",
        "id": "ulXyqGIDwgR_",
        "outputId": "dc3bfe02-6ed9-4e1e-ba8e-955108c06371",
        "colab": {
          "base_uri": "https://localhost:8080/",
          "height": 187
        }
      },
      "cell_type": "code",
      "source": [
        "#Instantiating the KNN model\n",
        "knn = KNeighborsClassifier()\n",
        "param_grid_KNN ={'n_neighbors':[5,10,40,80,100,150,200],\n",
        "          'leaf_size':[1,2,3,5],\n",
        "          'n_jobs':[-1]}\n",
        "model_names = [\"KNN\"]\n",
        "knn_grid_search3 = RandomizedSearchCV(estimator = knn, param_distributions = param_grid_KNN, \n",
        "                            cv = 3, n_jobs = -1, verbose = 2)\n",
        "#Computing 3-fold cross-validation scores: cv_scores\n",
        "cv_scores = cross_val_score(knn_grid_search3, X_train, y_train, cv=3)\n",
        "print(cv_scores)"
      ],
      "execution_count": 0,
      "outputs": [
        {
          "output_type": "stream",
          "text": [
            "Fitting 3 folds for each of 10 candidates, totalling 30 fits\n"
          ],
          "name": "stdout"
        },
        {
          "output_type": "stream",
          "text": [
            "[Parallel(n_jobs=-1)]: Using backend LokyBackend with 2 concurrent workers.\n",
            "[Parallel(n_jobs=-1)]: Done  30 out of  30 | elapsed: 11.8min finished\n"
          ],
          "name": "stderr"
        },
        {
          "output_type": "stream",
          "text": [
            "Fitting 3 folds for each of 10 candidates, totalling 30 fits\n"
          ],
          "name": "stdout"
        },
        {
          "output_type": "stream",
          "text": [
            "[Parallel(n_jobs=-1)]: Using backend LokyBackend with 2 concurrent workers.\n",
            "[Parallel(n_jobs=-1)]: Done  30 out of  30 | elapsed:  7.2min finished\n"
          ],
          "name": "stderr"
        },
        {
          "output_type": "stream",
          "text": [
            "Fitting 3 folds for each of 10 candidates, totalling 30 fits\n"
          ],
          "name": "stdout"
        },
        {
          "output_type": "stream",
          "text": [
            "[Parallel(n_jobs=-1)]: Using backend LokyBackend with 2 concurrent workers.\n",
            "[Parallel(n_jobs=-1)]: Done  30 out of  30 | elapsed:  8.2min finished\n"
          ],
          "name": "stderr"
        },
        {
          "output_type": "stream",
          "text": [
            "[0.54545455 0.54360082 0.54265147]\n"
          ],
          "name": "stdout"
        }
      ]
    },
    {
      "metadata": {
        "colab_type": "code",
        "id": "f8iLp69ty_1d",
        "colab": {}
      },
      "cell_type": "code",
      "source": [
        "#fitting the KNN model\n",
        "knn_grid_search3.fit(X_train, y_train)\n",
        "print(knn_grid_search3.best_params_)\n",
        "best_random =knn_grid_search3.best_estimator_\n",
        "best_random.fit(X_train, y_train)\n",
        "y_pred3=best_random.predict(X_test)\n",
        "\n",
        "#print Accuracy\n",
        "acc = accuracy_score(y_test, y_pred3)\n",
        "print(\"Accuracy Using\" + str(acc)+'\\n')\n",
        "print(classification_report(y_test,y_pred3))\n",
        "print(confusion_matrix(y_test, y_pred3))\n"
      ],
      "execution_count": 0,
      "outputs": []
    },
    {
      "metadata": {
        "id": "a7JtSocenKNK",
        "colab_type": "text"
      },
      "cell_type": "markdown",
      "source": [
        "Fitting 3 folds for each of 10 candidates, totalling 30 fits\n",
        "[Parallel(n_jobs=-1)]: Using backend LokyBackend with 2 concurrent workers.\n",
        "/usr/local/lib/python3.6/dist-packages/sklearn/externals/joblib/externals/loky/process_executor.py:706: UserWarning: A worker stopped while some jobs were given to the executor. This can be caused by a too short worker timeout or by a memory leak.\n",
        "  \"timeout or by a memory leak.\", UserWarning\n",
        "{'n_neighbors': 150, 'n_jobs': -1, 'leaf_size': 1}\n",
        "[Parallel(n_jobs=-1)]: Done  30 out of  30 | elapsed:  6.3min finished\n",
        "\n",
        "Accuracy Using0.547687\n",
        "\n",
        "/usr/local/lib/python3.6/dist-packages/sklearn/metrics/classification.py:1143: UndefinedMetricWarning: Precision and F-score are ill-defined and being set to 0.0 in labels with no predicted samples.\n",
        "  'precision', 'predicted', average, warn_for)\n",
        "              precision    recall  f1-score   support\n",
        "\n",
        "           0       0.56      0.81      0.66    501209\n",
        "           1       0.51      0.33      0.40    422498\n",
        "           2       0.00      0.00      0.00     47622\n",
        "           3       0.00      0.00      0.00     21121\n",
        "           4       0.00      0.00      0.00      3885\n",
        "           5       0.00      0.00      0.00      1996\n",
        "           6       0.00      0.00      0.00      1424\n",
        "           7       0.00      0.00      0.00       230\n",
        "           8       0.00      0.00      0.00        12\n",
        "           9       0.00      0.00      0.00         3\n",
        "\n",
        "    micro avg       0.55      0.55      0.55   1000000\n",
        "    macro avg       0.11      0.11      0.11   1000000\n",
        "    weighted avg       0.50      0.55      0.50   1000000\n",
        "\n",
        "     [[406572  94637      0      0      0      0      0      0      0      0]\n",
        "       [281383 141115      0      0      0      0      0      0      0      0]\n",
        "       [ 25798  21824      0      0      0      0      0      0      0      0]\n",
        "       [  8674  12447      0      0      0      0      0      0      0      0]\n",
        "       [   434   3451      0      0      0      0      0      0      0      0]\n",
        "       [  1848    148      0      0      0      0      0      0      0      0]\n",
        "       [   508    916      0      0      0      0      0      0      0      0]\n",
        "       [    20    210      0      0      0      0      0      0      0      0]\n",
        "       [     4      8      0      0      0      0      0      0      0      0]\n",
        "       [     3      0      0      0      0      0      0      0      0      0]]"
      ]
    },
    {
      "metadata": {
        "colab_type": "code",
        "id": "WcDuwfNgzMos",
        "colab": {}
      },
      "cell_type": "code",
      "source": [
        "#setup arrays to store train and test accuracies for CV=3\n",
        "n_neighbors_KNN = [5,10,40,80,100,150,200]\n",
        "train_accuracy = np.empty(len(n_neighbors_KNN))\n",
        "test_accuracy = np.empty(len(n_neighbors_KNN))\n",
        "\n",
        "#loop over different values of k\n",
        "for i, k in enumerate(n_neighbors_KNN):\n",
        "    #setup a Random forest Classifier with k neighbors: clf\n",
        "    clf_KNN = RandomizedSearchCV(estimator = KNeighborsClassifier(k), param_distributions = param_grid_KNN, \n",
        "                            cv = 3, n_jobs = -1, verbose = 2)\n",
        "\n",
        "    #fit the classifier to the training data\n",
        "    clf_KNN.fit(X_train, y_train)\n",
        "    \n",
        "    #compute accuracy on the training set\n",
        "    train_accuracy[i] = clf_KNN.score(X_train, y_train)\n",
        "\n",
        "    #compute accuracy on the testing set\n",
        "    test_accuracy[i] = clf_KNN.score(X_test, y_test)\n",
        "\n",
        "#generate plot CV=3\n",
        "plt.title('KNN: Varying Number of estimators')\n",
        "plt.plot(n_neighbors_KNN, test_accuracy, label = 'Testing Accuracy')\n",
        "plt.plot(n_neighbors_KNN, train_accuracy, label = 'Training Accuracy')\n",
        "plt.legend()\n",
        "plt.xlabel('Number of neighbors')\n",
        "plt.ylabel('Accuracy')\n",
        "plt.show()"
      ],
      "execution_count": 0,
      "outputs": []
    },
    {
      "metadata": {
        "id": "syYsGNpjqKSP",
        "colab_type": "text"
      },
      "cell_type": "markdown",
      "source": [
        "Fitting 3 folds for each of 10 candidates, totalling 30 fits\n",
        "\n",
        "[Parallel(n_jobs=-1)]: Using backend LokyBackend with 2 concurrent workers.\n",
        "\n",
        "/usr/local/lib/python3.6/dist-packages/sklearn/externals/joblib/externals/loky/process_executor.py:706: UserWarning: A worker stopped while some jobs were given to the executor. This can be caused by a too short worker timeout or by a memory leak. \"timeout or by a memory leak.\", UserWarning\n",
        "  \n",
        "[Parallel(n_jobs=-1)]: Done  30 out of  30 | elapsed:  7.3min finished\n",
        "\n",
        "Fitting 3 folds for each of 10 candidates, totalling 30 fits\n",
        "\n",
        "[Parallel(n_jobs=-1)]: Using backend LokyBackend with 2 concurrent workers.\n",
        "\n",
        "/usr/local/lib/python3.6/dist-packages/sklearn/externals/joblib/externals/loky/process_executor.py:706: UserWarning: A worker stopped while some jobs were given to the executor. This can be caused by a too short worker timeout or by a memory leak.\n",
        "  \"timeout or by a memory leak.\", UserWarning\n",
        "  \n",
        "[Parallel(n_jobs=-1)]: Done  30 out of  30 | elapsed:  6.7min finished\n",
        "\n",
        "Fitting 3 folds for each of 10 candidates, totalling 30 fits\n",
        "\n",
        "[Parallel(n_jobs=-1)]: Using backend LokyBackend with 2 concurrent workers.\n",
        "\n",
        "/usr/local/lib/python3.6/dist-packages/sklearn/externals/joblib/externals/loky/process_executor.py:706: UserWarning: A worker stopped while some jobs were given to the executor. This can be caused by a too short worker timeout or by a memory leak.\n",
        "  \"timeout or by a memory leak.\", UserWarning\n",
        "  \n",
        "[Parallel(n_jobs=-1)]: Done  30 out of  30 | elapsed:  6.3min finished\n",
        "\n",
        "Fitting 3 folds for each of 10 candidates, totalling 30 fits\n",
        "\n",
        "[Parallel(n_jobs=-1)]: Using backend LokyBackend with 2 concurrent workers.\n",
        "\n",
        "[Parallel(n_jobs=-1)]: Done  30 out of  30 | elapsed:  8.0min finished\n",
        "\n",
        "Fitting 3 folds for each of 10 candidates, totalling 30 fits\n",
        "\n",
        "[Parallel(n_jobs=-1)]: Using backend LokyBackend with 2 concurrent workers.\n",
        "\n",
        "[Parallel(n_jobs=-1)]: Done  30 out of  30 | elapsed:  7.0min finished\n",
        "\n",
        "Fitting 3 folds for each of 10 candidates, totalling 30 fits\n",
        "\n",
        "[Parallel(n_jobs=-1)]: Using backend LokyBackend with 2 concurrent workers.\n",
        "\n",
        "/usr/local/lib/python3.6/dist-packages/sklearn/externals/joblib/externals/loky/process_executor.py:706: UserWarning: A worker stopped while some jobs were given to the executor. This can be caused by a too short worker timeout or by a memory leak.\n",
        "  \"timeout or by a memory leak.\", UserWarning\n",
        "  \n",
        "[Parallel(n_jobs=-1)]: Done  30 out of  30 | elapsed:  8.2min finished\n",
        "\n",
        "Fitting 3 folds for each of 10 candidates, totalling 30 fits\n",
        "\n",
        "[Parallel(n_jobs=-1)]: Using backend LokyBackend with 2 concurrent workers.\n",
        "\n",
        "[Parallel(n_jobs=-1)]: Done  30 out of  30 | elapsed:  8.1min finished\n"
      ]
    },
    {
      "metadata": {
        "id": "Dx5x2VrusBER",
        "colab_type": "text"
      },
      "cell_type": "markdown",
      "source": [
        "![alt text](https://github.com/samirakazemi/SCS_3253_010_Machine_Learning_Final_Project/blob/master/plots/KNN%20CV3.PNG?raw=true)"
      ]
    },
    {
      "metadata": {
        "id": "PrEAN6zErVkL",
        "colab_type": "text"
      },
      "cell_type": "markdown",
      "source": [
        "**CV=10**"
      ]
    },
    {
      "metadata": {
        "id": "7yNRjTELJJrN",
        "colab_type": "code",
        "colab": {}
      },
      "cell_type": "code",
      "source": [
        "#instantiating the KNN model\n",
        "knn = KNeighborsClassifier()\n",
        "param_grid_KNN ={'n_neighbors':[5,10,40,80,100,150,200],\n",
        "          'leaf_size':[1,2,3,5],\n",
        "          'n_jobs':[-1]}\n",
        "model_names = [\"KNN\"]\n",
        "knn_grid_search10 = RandomizedSearchCV(estimator = knn, param_distributions = param_grid_KNN, \n",
        "                            cv = 10, n_jobs = -1, verbose = 2)\n",
        "#computing 3-fold cross-validation scores: cv_scores\n",
        "cv_scores10 = cross_val_score(knn_grid_search10, X_train, y_train, cv=3)\n",
        "print(cv_scores10)"
      ],
      "execution_count": 0,
      "outputs": []
    },
    {
      "metadata": {
        "id": "_X7TXwSNseE9",
        "colab_type": "text"
      },
      "cell_type": "markdown",
      "source": [
        "Fitting 10 folds for each of 10 candidates, totalling 100 fits\n",
        "\n",
        "/usr/local/lib/python3.6/dist-packages/sklearn/model_selection/_split.py:652: Warning: The least populated class in y has only 3 members, which is too few. The minimum number of members in any class cannot be less than n_splits=10.\n",
        "  % (min_groups, self.n_splits)), Warning)\n",
        "  \n",
        "[Parallel(n_jobs=-1)]: Using backend LokyBackend with 2 concurrent workers.\n",
        "\n",
        "[Parallel(n_jobs=-1)]: Done  37 tasks      | elapsed:  6.1min\n",
        "\n",
        "[Parallel(n_jobs=-1)]: Done 100 out of 100 | elapsed: 21.0min finished\n",
        "\n",
        "Fitting 10 folds for each of 10 candidates, totalling 100 fits\n",
        "\n",
        "/usr/local/lib/python3.6/dist-packages/sklearn/model_selection/_split.py:652: Warning: The least populated class in y has only 3 members, which is too few. The minimum number of members in any class cannot be less than n_splits=10.\n",
        "  % (min_groups, self.n_splits)), Warning)\n",
        "\n",
        "[Parallel(n_jobs=-1)]: Using backend LokyBackend with 2 concurrent workers.\n",
        "\n",
        "[Parallel(n_jobs=-1)]: Done  37 tasks      | elapsed:  4.3min\n",
        "\n",
        "[Parallel(n_jobs=-1)]: Done 100 out of 100 | elapsed: 14.8min finished\n",
        "\n",
        "Fitting 10 folds for each of 10 candidates, totalling 100 fits\n",
        "\n",
        "/usr/local/lib/python3.6/dist-packages/sklearn/model_selection/_split.py:652: Warning: The least populated class in y has only 4 members, which is too few. The minimum number of members in any class cannot be less than n_splits=10.\n",
        "  % (min_groups, self.n_splits)), Warning)\n",
        "\n",
        "[Parallel(n_jobs=-1)]: Using backend LokyBackend with 2 concurrent workers.\n",
        "\n",
        "[Parallel(n_jobs=-1)]: Done  37 tasks      | elapsed:  6.6min\n",
        "\n",
        "[Parallel(n_jobs=-1)]: Done 100 out of 100 | elapsed: 13.0min finished\n",
        "\n",
        "[0.54581434 0.54360082 0.54745051]"
      ]
    },
    {
      "metadata": {
        "id": "sOW9mWZxJnYT",
        "colab_type": "code",
        "colab": {}
      },
      "cell_type": "code",
      "source": [
        "#fitting the KNN model\n",
        "knn_grid_search10.fit(X_train, y_train)\n",
        "print(knn_grid_search10.best_params_)\n",
        "best_random =knn_grid_search10.best_estimator_\n",
        "best_random.fit(X_train, y_train)\n",
        "y_pred10=best_random.predict(X_test)\n",
        "\n",
        "# Print Accuracy\n",
        "acc = accuracy_score(y_test, y_pred10)\n",
        "print(\"Accuracy Using\" + str(acc)+'\\n')\n",
        "print(classification_report(y_test,y_pred10))\n",
        "print(confusion_matrix(y_test, y_pred10))"
      ],
      "execution_count": 0,
      "outputs": []
    },
    {
      "metadata": {
        "id": "TwLC4wa-sqhn",
        "colab_type": "text"
      },
      "cell_type": "markdown",
      "source": [
        "Fitting 10 folds for each of 10 candidates, totalling 100 fits\n",
        "\n",
        "/usr/local/lib/python3.6/dist-packages/sklearn/model_selection/_split.py:652: Warning: The least populated class in y has only 5 members, which is too few. The minimum number of members in any class cannot be less than n_splits=10.\n",
        "  % (min_groups, self.n_splits)), Warning)\n",
        "\n",
        "[Parallel(n_jobs=-1)]: Using backend LokyBackend with 2 concurrent workers.\n",
        "\n",
        "[Parallel(n_jobs=-1)]: Done  37 tasks      | elapsed: 11.8min\n",
        "\n",
        "/usr/local/lib/python3.6/dist-packages/sklearn/externals/joblib/externals/loky/process_executor.py:706: UserWarning: A worker stopped while some jobs were given to the executor. This can be caused by a too short worker timeout or by a memory leak.\n",
        "  \"timeout or by a memory leak.\", UserWarning\n",
        "\n",
        "{'n_neighbors': 200, 'n_jobs': -1, 'leaf_size': 1}\n",
        "\n",
        "[Parallel(n_jobs=-1)]: Done 100 out of 100 | elapsed: 29.9min finished\n",
        "\n",
        "Accuracy Using0.54831\n",
        "\n",
        "/usr/local/lib/python3.6/dist-packages/sklearn/metrics/classification.py:1143: UndefinedMetricWarning: Precision and F-score are ill-defined and being set to 0.0 in labels with no predicted samples.\n",
        "  'precision', 'predicted', average, warn_for)\n",
        "              precision    recall  f1-score   support\n",
        "\n",
        "           0       0.56      0.83      0.67    501209\n",
        "           1       0.52      0.32      0.39    422498\n",
        "           2       0.00      0.00      0.00     47622\n",
        "           3       0.00      0.00      0.00     21121\n",
        "           4       0.00      0.00      0.00      3885\n",
        "           5       0.00      0.00      0.00      1996\n",
        "           6       0.00      0.00      0.00      1424\n",
        "           7       0.00      0.00      0.00       230\n",
        "           8       0.00      0.00      0.00        12\n",
        "           9       0.00      0.00      0.00         3\n",
        "\n",
        "    micro avg       0.55      0.55      0.55   1000000\n",
        "    macro avg       0.11      0.11      0.11   1000000\n",
        "    weighted avg       0.50      0.55      0.50   1000000\n",
        "\n",
        "    [[413514  87695      0      0      0      0      0      0      0      0]\n",
        "    [287702 134796      0      0      0      0      0      0      0      0]\n",
        "    [ 26292  21330      0      0      0      0      0      0      0      0]  \n",
        "    [  9041  12080      0      0      0      0      0      0      0      0]\n",
        "    [   487   3398      0      0      0      0      0      0      0      0]\n",
        "    [   1862    134      0      0      0      0      0      0      0      0]\n",
        "    [   517    907      0      0      0      0      0      0      0      0]\n",
        "    [    26    204      0      0      0      0      0      0      0      0]\n",
        "    [     4      8      0      0      0      0      0      0      0      0]\n",
        "    [     3      0      0      0      0      0      0      0      0      0]]"
      ]
    },
    {
      "metadata": {
        "id": "JeeS7sTuJoN6",
        "colab_type": "code",
        "colab": {}
      },
      "cell_type": "code",
      "source": [
        "#setup arrays to store train and test accuracies for CV=10\n",
        "n_neighbors_KNN = [5,10,40,80,100,150,200]\n",
        "train_accuracy = np.empty(len(n_neighbors_KNN))\n",
        "test_accuracy = np.empty(len(n_neighbors_KNN))\n",
        "\n",
        "#loop over different values of k\n",
        "for i, k in enumerate(n_neighbors_KNN):\n",
        "    #setup a Random forest Classifier with k neighbors: clf\n",
        "    clf_KNN = RandomizedSearchCV(estimator = KNeighborsClassifier(k), param_distributions = param_grid_KNN, \n",
        "                            cv = 10, n_jobs = -1, verbose = 2)\n",
        "\n",
        "    #fit the classifier to the training data\n",
        "    clf_KNN.fit(X_train, y_train)\n",
        "    \n",
        "    #compute accuracy on the training set\n",
        "    train_accuracy[i] = clf_KNN.score(X_train, y_train)\n",
        "\n",
        "    #compute accuracy on the testing set\n",
        "    test_accuracy[i] = clf_KNN.score(X_test, y_test)\n",
        "    \n",
        "#generate KNN plot with CV=10\n",
        "plt.title('KNN: Varying Number of estimators, CV=10')\n",
        "plt.plot(n_neighbors_KNN, test_accuracy, label = 'Testing Accuracy')\n",
        "plt.plot(n_neighbors_KNN, train_accuracy, label = 'Training Accuracy')\n",
        "plt.legend()\n",
        "plt.xlabel('Number of neighbors')\n",
        "plt.ylabel('Accuracy')\n",
        "plt.show()"
      ],
      "execution_count": 0,
      "outputs": []
    },
    {
      "metadata": {
        "id": "uTolX_IdtZT9",
        "colab_type": "text"
      },
      "cell_type": "markdown",
      "source": [
        "Fitting 10 folds for each of 10 candidates, totalling 100 fits\n",
        "\n",
        "/usr/local/lib/python3.6/dist-packages/sklearn/model_selection/_split.py:652: Warning: The least populated class in y has only 5 members, which is too few. The minimum number of members in any class cannot be less than n_splits=10.\n",
        "  % (min_groups, self.n_splits)), Warning)\n",
        "\n",
        "[Parallel(n_jobs=-1)]: Using backend LokyBackend with 2 concurrent workers.\n",
        "\n",
        "[Parallel(n_jobs=-1)]: Done  37 tasks      | elapsed:  7.9min\n",
        "\n",
        "/usr/local/lib/python3.6/dist-packages/sklearn/externals/joblib/externals/loky/process_executor.py:706: UserWarning: A worker stopped while some jobs were given to the executor. This can be caused by a too short worker timeout or by a memory leak.\n",
        "  \"timeout or by a memory leak.\", UserWarning\n",
        "\n",
        "[Parallel(n_jobs=-1)]: Done 100 out of 100 | elapsed: 26.2min finished\n",
        "\n",
        "Fitting 10 folds for each of 10 candidates, totalling 100 fits\n",
        "\n",
        "/usr/local/lib/python3.6/dist-packages/sklearn/model_selection/_split.py:652: Warning: The least populated class in y has only 5 members, which is too few. The minimum number of members in any class cannot be less than n_splits=10.\n",
        "  % (min_groups, self.n_splits)), Warning)\n",
        "\n",
        "[Parallel(n_jobs=-1)]: Using backend LokyBackend with 2 concurrent workers.\n",
        "\n",
        "/usr/local/lib/python3.6/dist-packages/sklearn/externals/joblib/externals/loky/process_executor.py:706: UserWarning: A worker stopped while some jobs were given to the executor. This can be caused by a too short worker timeout or by a memory leak.\n",
        "  \"timeout or by a memory leak.\", UserWarning\n",
        "\n",
        "[Parallel(n_jobs=-1)]: Done  37 tasks      | elapsed: 10.6min\n",
        "\n",
        "[Parallel(n_jobs=-1)]: Done 100 out of 100 | elapsed: 24.5min finished\n",
        "\n",
        "Fitting 10 folds for each of 10 candidates, totalling 100 fits\n",
        "\n",
        "/usr/local/lib/python3.6/dist-packages/sklearn/model_selection/_split.py:652: Warning: The least populated class in y has only 5 members, which is too few. The minimum number of members in any class cannot be less than n_splits=10.\n",
        "  % (min_groups, self.n_splits)), Warning)\n",
        "\n",
        "[Parallel(n_jobs=-1)]: Using backend LokyBackend with 2 concurrent workers.\n",
        "\n",
        "[Parallel(n_jobs=-1)]: Done  37 tasks      | elapsed: 11.7min\n",
        "\n",
        "[Parallel(n_jobs=-1)]: Done 100 out of 100 | elapsed: 27.9min finished\n",
        "\n",
        "Fitting 10 folds for each of 10 candidates, totalling 100 fits\n",
        "\n",
        "/usr/local/lib/python3.6/dist-packages/sklearn/model_selection/_split.py:652: Warning: The least populated class in y has only 5 members, which is too few. The minimum number of members in any class cannot be less than n_splits=10.\n",
        "  % (min_groups, self.n_splits)), Warning)\n",
        "\n",
        "[Parallel(n_jobs=-1)]: Using backend LokyBackend with 2 concurrent workers.\n",
        "\n",
        "/usr/local/lib/python3.6/dist-packages/sklearn/externals/joblib/externals/loky/process_executor.py:706: UserWarning: A worker stopped while some jobs were given to the executor. This can be caused by a too short worker timeout or by a memory leak.\n",
        "  \"timeout or by a memory leak.\", UserWarning\n",
        "\n",
        "[Parallel(n_jobs=-1)]: Done  37 tasks      | elapsed:  8.1min\n",
        "\n",
        "[Parallel(n_jobs=-1)]: Done 100 out of 100 | elapsed: 27.3min finished\n",
        "\n",
        "Fitting 10 folds for each of 10 candidates, totalling 100 fits\n",
        "\n",
        "/usr/local/lib/python3.6/dist-packages/sklearn/model_selection/_split.py:652: Warning: The least populated class in y has only 5 members, which is too few. The minimum number of members in any class cannot be less than n_splits=10.\n",
        "% (min_groups, self.n_splits)), Warning)\n",
        "\n",
        "[Parallel(n_jobs=-1)]: Using backend LokyBackend with 2 concurrent workers.\n",
        "\n",
        "[Parallel(n_jobs=-1)]: Done  37 tasks      | elapsed:  7.7min\n",
        "\n",
        "/usr/local/lib/python3.6/dist-packages/sklearn/externals/joblib/externals/loky/process_executor.py:706: UserWarning: A worker stopped while some jobs were given to the executor. This can be caused by a too short worker timeout or by a memory leak.\n",
        "  \"timeout or by a memory leak.\", UserWarning\n",
        "\n",
        "[Parallel(n_jobs=-1)]: Done 100 out of 100 | elapsed: 25.1min finished\n",
        "\n",
        "Fitting 10 folds for each of 10 candidates, totalling 100 fits\n",
        "\n",
        "/usr/local/lib/python3.6/dist-packages/sklearn/model_selection/_split.py:652: Warning: The least populated class in y has only 5 members, which is too few. The minimum number of members in any class cannot be less than n_splits=10.\n",
        "  % (min_groups, self.n_splits)), Warning)\n",
        "\n",
        "[Parallel(n_jobs=-1)]: Using backend LokyBackend with 2 concurrent workers.\n",
        "\n",
        "/usr/local/lib/python3.6/dist-packages/sklearn/externals/joblib/externals/loky/process_executor.py:706: UserWarning: A worker stopped while some jobs were given to the executor. This can be caused by a too short worker timeout or by a memory leak.\n",
        "  \"timeout or by a memory leak.\", UserWarning\n",
        "\n",
        "[Parallel(n_jobs=-1)]: Done  37 tasks      | elapsed: 13.2min\n",
        "\n",
        "[Parallel(n_jobs=-1)]: Done 100 out of 100 | elapsed: 32.7min finished\n",
        "\n",
        "Fitting 10 folds for each of 10 candidates, totalling 100 fits\n",
        "\n",
        "/usr/local/lib/python3.6/dist-packages/sklearn/model_selection/_split.py:652: Warning: The least populated class in y has only 5 members, which is too few. The minimum number of members in any class cannot be less than n_splits=10.\n",
        "  % (min_groups, self.n_splits)), Warning)\n",
        "\n",
        "[Parallel(n_jobs=-1)]: Using backend LokyBackend with 2 concurrent workers.\n",
        "\n",
        "/usr/local/lib/python3.6/dist-packages/sklearn/externals/joblib/externals/loky/process_executor.py:706: UserWarning: A worker stopped while some jobs were given to the executor. This can be caused by a too short worker timeout or by a memory leak.\n",
        "  \"timeout or by a memory leak.\", UserWarning\n",
        "\n",
        "[Parallel(n_jobs=-1)]: Done  37 tasks      | elapsed:  7.8min\n",
        "\n",
        "[Parallel(n_jobs=-1)]: Done 100 out of 100 | elapsed: 26.9min finished\n",
        "![alt text](https://github.com/samirakazemi/SCS_3253_010_Machine_Learning_Final_Project/blob/master/plots/knn%20cv10.PNG?raw=true)"
      ]
    },
    {
      "metadata": {
        "id": "o9CBcUVyJoVg",
        "colab_type": "text"
      },
      "cell_type": "markdown",
      "source": [
        "### SVM"
      ]
    },
    {
      "metadata": {
        "id": "LfPDuIysVJD0",
        "colab_type": "text"
      },
      "cell_type": "markdown",
      "source": [
        "We also used a multiclass svm classifier. We tested this on 3 and 10 fold cross validation. The hyperparameters tuned were the penalty parameter C, the kernel coefficient for Gamma , and the type of decision function ( One vs Rest). SVM is best used with small to medium sized datasets, and in the case of this dataest, it doesn't seem to work a well. The 3 CV SVM model seems to perform better on the test set than the 10 CV model, albeit by a fraction of a percent. "
      ]
    },
    {
      "metadata": {
        "id": "TLBacu4csy_i",
        "colab_type": "text"
      },
      "cell_type": "markdown",
      "source": [
        "**CV=3**"
      ]
    },
    {
      "metadata": {
        "id": "SW2yNmIIJs7J",
        "colab_type": "code",
        "colab": {}
      },
      "cell_type": "code",
      "source": [
        "from sklearn.model_selection import RandomizedSearchCV\n",
        "from sklearn.svm import SVC\n",
        "from sklearn.model_selection import cross_val_score\n",
        "from sklearn.ensemble import BaggingClassifier\n",
        "\n",
        "param_grid_SVM = {#'penalty':['l1', 'l2'],\n",
        "  \t\t\t\t\t'C':[0.1, 1, 10], \n",
        "  \t\t\t\t\t'gamma':[0.00001, 0.0001, 0.001, 0.01, 0.1],\n",
        "            'decision_function_shape': ['ovr']\n",
        "             }\n",
        "\n",
        "\n",
        "#instantiating the svm model\n",
        "svm = SVC()\n",
        "\n",
        "#GridSearchCV\n",
        "svm_grid_search3 = RandomizedSearchCV(estimator = svm, param_distributions = param_grid_SVM, \n",
        "                                      cv = 3, n_jobs = -1, verbose = 2)"
      ],
      "execution_count": 0,
      "outputs": []
    },
    {
      "metadata": {
        "id": "tS5XwcyvXK17",
        "colab_type": "code",
        "outputId": "4f9539ba-9be6-4288-b79f-4c102fb62f41",
        "colab": {
          "base_uri": "https://localhost:8080/",
          "height": 102
        }
      },
      "cell_type": "code",
      "source": [
        "svm_3 = svm_grid_search3.fit(X_train, y_train)\n",
        "print(\"Best CV3 params\", svm_3.best_params_)\n",
        "print(\"Best CV3 accuracy\", svm_3.best_score_)\n",
        "\n",
        "y_pred_svm_3 = svm_3.predict(X_test)\n",
        "accuracy_svm_3 = accuracy_score(y_test, y_pred_svm_3)\n",
        "print('Accuracy of SVM_3 Classifier: {:.3f}'.format(accuracy_svm_3))\n"
      ],
      "execution_count": 0,
      "outputs": [
        {
          "output_type": "stream",
          "text": [
            "Fitting 3 folds for each of 10 candidates, totalling 30 fits\n"
          ],
          "name": "stdout"
        },
        {
          "output_type": "stream",
          "text": [
            "[Parallel(n_jobs=-1)]: Using backend LokyBackend with 2 concurrent workers.\n",
            "[Parallel(n_jobs=-1)]: Done  30 out of  30 | elapsed: 14.0min finished\n"
          ],
          "name": "stderr"
        },
        {
          "output_type": "stream",
          "text": [
            "Best CV3 params {'gamma': 0.1, 'decision_function_shape': 'ovr', 'C': 10}\n",
            "Best CV3 accuracy 0.5557776889244302\n"
          ],
          "name": "stdout"
        }
      ]
    },
    {
      "metadata": {
        "id": "Py8LXgNVjOek",
        "colab_type": "code",
        "colab": {}
      },
      "cell_type": "code",
      "source": [
        "#checking the number of labels\n",
        "np.unique(y_pred_svm_3)"
      ],
      "execution_count": 0,
      "outputs": []
    },
    {
      "metadata": {
        "id": "Y-P2BvPuZPwO",
        "colab_type": "code",
        "outputId": "29b70910-342c-4a27-e64e-c4910464fe64",
        "colab": {
          "base_uri": "https://localhost:8080/",
          "height": 269
        }
      },
      "cell_type": "code",
      "source": [
        "plt.plot(y_test, 'bo', label='actual')\n",
        "plt.plot(y_pred_svm_3, 'ro', label='predicted')\n",
        "plt.legend()\n",
        "plt.show()"
      ],
      "execution_count": 0,
      "outputs": [
        {
          "output_type": "display_data",
          "data": {
            "image/png": "[encoded data removed]",
            "text/plain": [
              "<Figure size 432x288 with 1 Axes>"
            ]
          },
          "metadata": {
            "tags": []
          }
        }
      ]
    },
    {
      "metadata": {
        "id": "yeDJx6CEtOCM",
        "colab_type": "text"
      },
      "cell_type": "markdown",
      "source": [
        "**CV =10**"
      ]
    },
    {
      "metadata": {
        "id": "EB2wF4D9DeHx",
        "colab_type": "code",
        "colab": {}
      },
      "cell_type": "code",
      "source": [
        "param_grid_SVM = {#'penalty':['l1', 'l2'],\n",
        "  \t\t\t\t\t'C':[0.1, 1, 10], \n",
        "  \t\t\t\t\t'gamma':[0.00001, 0.0001, 0.001, 0.01, 0.1],\n",
        "            'decision_function_shape': ['ovr']\n",
        "             }\n",
        "\n",
        "svm_grid_search10 = RandomizedSearchCV(estimator = svm, param_distributions = param_grid_SVM, \n",
        "                                      cv = 10, n_jobs = -1, verbose = 2)\n"
      ],
      "execution_count": 0,
      "outputs": []
    },
    {
      "metadata": {
        "id": "mpq7BHMbDeYo",
        "colab_type": "code",
        "colab": {}
      },
      "cell_type": "code",
      "source": [
        "svm_10 = svm_grid_search3.fit(X_train, y_train)\n",
        "print(\"Best CV10 params\", svm_10.best_params_)\n",
        "print(\"Best CV10 accuracy\", svm_10.best_score_)\n",
        "y_pred_svm_10 = svm_10.predict(X_test)\n",
        "accuracy_svm_10 = accuracy_score(y_test, y_pred_svm_10)\n",
        "print('Accuracy of SVM_10 Classifier: {:.3f}'.format(accuracy_svm_10))"
      ],
      "execution_count": 0,
      "outputs": []
    },
    {
      "metadata": {
        "id": "7gKdUpS6v_3v",
        "colab_type": "text"
      },
      "cell_type": "markdown",
      "source": [
        "Fitting 10 folds for each of 10 candidates, totalling 100 fits\n",
        "[Parallel(n_jobs=-1)]: Using backend LokyBackend with 2 concurrent workers.\n",
        "[Parallel(n_jobs=-1)]: Done  100 out of  100 | elapsed: 120.2min finished\n",
        "\n",
        "\n",
        "\n",
        "\n",
        "Best CV10 params {'C': 1, 'decision_function_shape': 'ovr', 'gamma': 0.1}\n",
        "\n",
        "\n",
        "\n",
        "\n",
        "Best CV10 accuracy 0.5537194322271092\n",
        "\n",
        "'Accuracy of SVM_10 Classifier: 0.557"
      ]
    },
    {
      "metadata": {
        "id": "iYPo7AvSKCw8",
        "colab_type": "code",
        "outputId": "5ef60512-3072-4c9d-f223-37cdc3ec0606",
        "colab": {
          "base_uri": "https://localhost:8080/",
          "height": 357
        }
      },
      "cell_type": "code",
      "source": [
        "z = confusion_matrix(y_test.values, y_pred_svm_3)\n",
        "z"
      ],
      "execution_count": 0,
      "outputs": [
        {
          "output_type": "execute_result",
          "data": {
            "text/plain": [
              "array([[366961, 134214,      4,      0,      2,     26,      0,      0,\n",
              "             0,      2],\n",
              "       [229660, 192719,     65,      6,      5,     16,      0,      1,\n",
              "             5,     21],\n",
              "       [ 19705,  27869,     35,      9,      2,      0,      1,      0,\n",
              "             0,      1],\n",
              "       [  5749,  15341,     25,      4,      2,      0,      0,      0,\n",
              "             0,      0],\n",
              "       [    82,   3798,      1,      0,      1,      0,      0,      0,\n",
              "             0,      3],\n",
              "       [  1324,    225,      0,      0,      0,    435,      0,      0,\n",
              "             4,      8],\n",
              "       [   299,   1114,      9,      2,      0,      0,      0,      0,\n",
              "             0,      0],\n",
              "       [    16,    209,      3,      2,      0,      0,      0,      0,\n",
              "             0,      0],\n",
              "       [     1,      6,      0,      0,      0,      5,      0,      0,\n",
              "             0,      0],\n",
              "       [     0,      2,      0,      0,      0,      0,      0,      0,\n",
              "             0,      1]])"
            ]
          },
          "metadata": {
            "tags": []
          },
          "execution_count": 95
        }
      ]
    },
    {
      "metadata": {
        "id": "h9dlTKhmlNKQ",
        "colab_type": "code",
        "outputId": "5fe8d1b6-f755-4bb3-974a-885e9f8b4f8f",
        "colab": {
          "base_uri": "https://localhost:8080/",
          "height": 34
        }
      },
      "cell_type": "code",
      "source": [
        "np.unique(y_pred_svm_10)"
      ],
      "execution_count": 0,
      "outputs": [
        {
          "output_type": "execute_result",
          "data": {
            "text/plain": [
              "array([0, 1])"
            ]
          },
          "metadata": {
            "tags": []
          },
          "execution_count": 68
        }
      ]
    },
    {
      "metadata": {
        "id": "liFmKiqIOkin",
        "colab_type": "code",
        "outputId": "d24f3aa6-9afc-40c1-e5da-dc4bb9d1bb01",
        "colab": {
          "base_uri": "https://localhost:8080/",
          "height": 391
        }
      },
      "cell_type": "code",
      "source": [
        "np.unique(X_test)"
      ],
      "execution_count": 0,
      "outputs": [
        {
          "output_type": "execute_result",
          "data": {
            "text/plain": [
              "array([-1.60595895e+00, -1.59884640e+00, -1.59659058e+00, -1.59367332e+00,\n",
              "       -1.58589488e+00, -1.35137437e+00, -1.34467258e+00, -1.34044815e+00,\n",
              "       -1.33892906e+00, -1.33843532e+00, -1.33517076e+00, -1.33216051e+00,\n",
              "       -1.33112018e+00, -1.32640111e+00, -1.31901987e+00, -1.07189917e+00,\n",
              "       -1.06564978e+00, -1.06547463e+00, -1.05912891e+00, -1.05214486e+00,\n",
              "       -8.04869288e-01, -8.00179378e-01, -7.98788741e-01, -7.91856699e-01,\n",
              "       -7.85269848e-01, -5.37839403e-01, -5.34708976e-01, -5.32102855e-01,\n",
              "       -5.24584492e-01, -5.18394838e-01, -4.55686847e-01, -4.54300040e-01,\n",
              "       -4.44548669e-01, -4.44379718e-01, -4.43702431e-01, -2.70809517e-01,\n",
              "       -2.69238574e-01, -2.65416969e-01, -2.57312284e-01, -2.51519827e-01,\n",
              "       -3.77963133e-03, -3.76817244e-03,  1.26891725e-03,  9.95992394e-03,\n",
              "        1.53551835e-02,  2.61702230e-01,  2.63250254e-01,  2.67954803e-01,\n",
              "        2.77232132e-01,  2.82230194e-01,  4.36072502e-01,  4.40000676e-01,\n",
              "        4.47765902e-01,  4.49337986e-01,  4.51688713e-01,  5.27172632e-01,\n",
              "        5.30280140e-01,  5.34640690e-01,  5.44504339e-01,  5.49105205e-01,\n",
              "        7.92643034e-01,  7.97310026e-01,  8.01326576e-01,  8.11776547e-01,\n",
              "        8.15980215e-01,  1.05811344e+00,  1.06433991e+00,  1.06801246e+00,\n",
              "        1.07904876e+00,  1.08285523e+00,  1.32358384e+00,  1.32644504e+00,\n",
              "        1.33136980e+00,  1.33469835e+00,  1.33568820e+00,  1.33923423e+00,\n",
              "        1.34322464e+00,  1.34632096e+00,  1.34775714e+00,  1.34973024e+00,\n",
              "        1.58905424e+00,  1.59839968e+00,  1.60138423e+00,  1.61359317e+00,\n",
              "        1.61660525e+00])"
            ]
          },
          "metadata": {
            "tags": []
          },
          "execution_count": 71
        }
      ]
    },
    {
      "metadata": {
        "id": "IRNEKMg1Odv4",
        "colab_type": "code",
        "outputId": "951a3cdb-c7f2-4562-f3be-2bcd35a925a6",
        "colab": {
          "base_uri": "https://localhost:8080/",
          "height": 34
        }
      },
      "cell_type": "code",
      "source": [
        "np.unique(y_test)"
      ],
      "execution_count": 0,
      "outputs": [
        {
          "output_type": "execute_result",
          "data": {
            "text/plain": [
              "array([0, 1, 2, 3, 4, 5, 6, 7, 8, 9])"
            ]
          },
          "metadata": {
            "tags": []
          },
          "execution_count": 69
        }
      ]
    },
    {
      "metadata": {
        "id": "89cDDMXRl7xO",
        "colab_type": "code",
        "outputId": "e4c74ff3-d9ac-4506-a4c8-9c7859836e9f",
        "colab": {
          "base_uri": "https://localhost:8080/",
          "height": 269
        }
      },
      "cell_type": "code",
      "source": [
        "plt.plot(y_test, 'bo', label='actual')\n",
        "plt.plot(y_pred_svm_10, 'ro', label='predicted')\n",
        "plt.legend()\n",
        "plt.show()"
      ],
      "execution_count": 0,
      "outputs": [
        {
          "output_type": "display_data",
          "data": {
            "image/png": "[encoded data removed]",
            "text/plain": [
              "<Figure size 432x288 with 1 Axes>"
            ]
          },
          "metadata": {
            "tags": []
          }
        }
      ]
    },
    {
      "metadata": {
        "id": "VW0cHA-PytEi",
        "colab_type": "text"
      },
      "cell_type": "markdown",
      "source": [
        "###Random Forest"
      ]
    },
    {
      "metadata": {
        "id": "cbpNGNCL6tYA",
        "colab_type": "text"
      },
      "cell_type": "markdown",
      "source": [
        "Here we loop over different values of n_estimators and plot a graph of training vs test accuracy for each one. \n",
        "\n",
        "We can see that the highest accuracy occurs at n_estimators=25 so that’s the one we choose for our cross validation.\n",
        "\n",
        "We then run a 3-fold cross validation, getting an average accuracy score of 0.576.\n",
        "\n",
        "We also ran a 10-fold cross validation getting an average score of 0.580, not that much better, but slightly better than 3-fold.\n"
      ]
    },
    {
      "metadata": {
        "id": "PrNjpRWny2to",
        "colab_type": "code",
        "colab": {}
      },
      "cell_type": "code",
      "source": [
        "#setup arrays to store train and test accuracies\n",
        "estimators = [5,10,15,20,25]\n",
        "train_accuracy = np.empty(len(estimators))\n",
        "test_accuracy = np.empty(len(estimators))\n",
        "\n",
        "#loop over different values of k\n",
        "for i, k in enumerate(estimators):\n",
        "    #setup a Random forest Classifier with k estimators: rf\n",
        "    rf = RandomForestClassifier(n_estimators=k)\n",
        "\n",
        "    #fit the classifier to the training data\n",
        "    rf.fit(X_train, y_train)\n",
        "    \n",
        "    #compute accuracy on the training set\n",
        "    train_accuracy[i] = rf.score(X_train, y_train)\n",
        "\n",
        "    #compute accuracy on the testing set\n",
        "    test_accuracy[i] = rf.score(X_test, y_test)\n",
        "    \n",
        "    #generate plot\n",
        "\n",
        "\n",
        "plt.title('Random Forest: Varying Number of estimators')\n",
        "plt.plot(estimators, test_accuracy, label = 'Testing Accuracy')\n",
        "plt.plot(estimators, train_accuracy, label = 'Training Accuracy')\n",
        "plt.legend()\n",
        "plt.xlabel('Number of estimators')\n",
        "plt.ylabel('Accuracy')\n",
        "plt.show()"
      ],
      "execution_count": 0,
      "outputs": []
    },
    {
      "metadata": {
        "id": "z4cOXX0R08Dt",
        "colab_type": "text"
      },
      "cell_type": "markdown",
      "source": [
        "![alt text](https://raw.githubusercontent.com/samirakazemi/SCS_3253_010_Machine_Learning_Final_Project/master/plots/RF.PNG)"
      ]
    },
    {
      "metadata": {
        "id": "ywMr0T2UzC6Q",
        "colab_type": "text"
      },
      "cell_type": "markdown",
      "source": [
        "**CV=3**"
      ]
    },
    {
      "metadata": {
        "id": "iz-0JNavzAhz",
        "colab_type": "code",
        "colab": {}
      },
      "cell_type": "code",
      "source": [
        "#cross validation of rf scores\n",
        "\n",
        "rf=RandomForestClassifier(n_estimators=25)\n",
        "\n",
        "#computing 3-fold cross-validation scores: cv_scores\n",
        "cv_scores = cross_val_score(rf, X_train, y_train, cv=3)\n",
        "\n",
        "#print the 3-fold cross-validation scores\n",
        "print(cv_scores)\n",
        "\n",
        "print(\"Average 3-Fold CV Score: {}\".format(np.mean(cv_scores)))"
      ],
      "execution_count": 0,
      "outputs": []
    },
    {
      "metadata": {
        "id": "Bk1WQy2lwqwr",
        "colab_type": "text"
      },
      "cell_type": "markdown",
      "source": [
        "Average 3-Fold CV Score: 0.576"
      ]
    },
    {
      "metadata": {
        "id": "fsYes5TozXfH",
        "colab_type": "text"
      },
      "cell_type": "markdown",
      "source": [
        "**CV=10**"
      ]
    },
    {
      "metadata": {
        "id": "cXi5zqXhzHY9",
        "colab_type": "code",
        "colab": {}
      },
      "cell_type": "code",
      "source": [
        "#cross-validation with 10-folds\n",
        "\n",
        "rf=RandomForestClassifier(n_estimators=25)\n",
        "\n",
        "#computing 10-fold cross-validation scores: cv_scores\n",
        "cv_scores = cross_val_score(rf, X_train, y_train, cv=10)\n",
        "\n",
        "#print the 10-fold cross-validation scores\n",
        "print(cv_scores)\n",
        "\n",
        "print(\"Average 10-Fold CV Score: {}\".format(np.mean(cv_scores)))"
      ],
      "execution_count": 0,
      "outputs": []
    },
    {
      "metadata": {
        "id": "Q7IQCHInwrQj",
        "colab_type": "text"
      },
      "cell_type": "markdown",
      "source": [
        "Average 10-Fold CV Score:0.580"
      ]
    },
    {
      "metadata": {
        "id": "jmMsWR6IuISL",
        "colab_type": "text"
      },
      "cell_type": "markdown",
      "source": [
        "###Decision Tree\n"
      ]
    },
    {
      "metadata": {
        "id": "oBvuAZQx6x3g",
        "colab_type": "text"
      },
      "cell_type": "markdown",
      "source": [
        "Here we import and set up a parameter grid for a Decision Tree Classifier.\n",
        "\n",
        "For hyper parameter tuning:\n",
        "We run a randomized search CV with cv=3 and 50 iterations to see what the best parameters for our decision tree are.\n",
        "We also run a randomized search CV with cv=10 as well.\n",
        "\n",
        "Looking at the accuracy scores we see that using cv10 vs cv3 has only increased our accuracy score by ~0.0016 which is quite an insignificant change so it’s probably better to use CV3 as it takes less time to run.\n"
      ]
    },
    {
      "metadata": {
        "id": "KuDNwRVouHTS",
        "colab_type": "code",
        "colab": {}
      },
      "cell_type": "code",
      "source": [
        "dt = DecisionTreeClassifier()\n",
        "from pprint import pprint\n",
        "# Look at parameters used by our current forest\n",
        "print('Parameters currently in use:\\n')\n",
        "pprint(dt.get_params())\n",
        "parameters={'min_samples_split' : range(10,500,20),\n",
        "            'max_depth': range(1,20,2)}"
      ],
      "execution_count": 0,
      "outputs": []
    },
    {
      "metadata": {
        "id": "OHnXiZmivPZk",
        "colab_type": "text"
      },
      "cell_type": "markdown",
      "source": [
        "**CV=3**"
      ]
    },
    {
      "metadata": {
        "id": "zhe2PJGWuHwD",
        "colab_type": "code",
        "outputId": "c5c59d71-5c18-418c-e403-8d7dcc408530",
        "colab": {
          "base_uri": "https://localhost:8080/",
          "height": 272
        }
      },
      "cell_type": "code",
      "source": [
        "# Use the random grid to search for best hyperparameters usin 3 fold cross validation\n",
        "dt_random3 = RandomizedSearchCV(estimator = dt, param_distributions = parameters, n_iter = 50, cv = 3, verbose=2, random_state=42, n_jobs = -1)\n",
        "# Fit the random search model\n",
        "dt_random3.fit(X_train, y_train)"
      ],
      "execution_count": 0,
      "outputs": [
        {
          "output_type": "stream",
          "text": [
            "Fitting 3 folds for each of 50 candidates, totalling 150 fits\n"
          ],
          "name": "stdout"
        },
        {
          "output_type": "stream",
          "text": [
            "[Parallel(n_jobs=-1)]: Using backend LokyBackend with 2 concurrent workers.\n",
            "[Parallel(n_jobs=-1)]: Done  62 tasks      | elapsed:    4.3s\n",
            "[Parallel(n_jobs=-1)]: Done 150 out of 150 | elapsed:    7.2s finished\n"
          ],
          "name": "stderr"
        },
        {
          "output_type": "execute_result",
          "data": {
            "text/plain": [
              "RandomizedSearchCV(cv=3, error_score='raise-deprecating',\n",
              "          estimator=DecisionTreeClassifier(class_weight=None, criterion='gini', max_depth=None,\n",
              "            max_features=None, max_leaf_nodes=None,\n",
              "            min_impurity_decrease=0.0, min_impurity_split=None,\n",
              "            min_samples_leaf=1, min_samples_split=2,\n",
              "            min_weight_fraction_leaf=0.0, presort=False, random_state=None,\n",
              "            splitter='best'),\n",
              "          fit_params=None, iid='warn', n_iter=50, n_jobs=-1,\n",
              "          param_distributions={'min_samples_split': range(10, 500, 20), 'max_depth': range(1, 20, 2)},\n",
              "          pre_dispatch='2*n_jobs', random_state=42, refit=True,\n",
              "          return_train_score='warn', scoring=None, verbose=2)"
            ]
          },
          "metadata": {
            "tags": []
          },
          "execution_count": 14
        }
      ]
    },
    {
      "metadata": {
        "id": "kfJ7M4vQuHpg",
        "colab_type": "code",
        "outputId": "d6cf1f63-88ad-4aa0-a4a5-e09ef0f03693",
        "colab": {
          "base_uri": "https://localhost:8080/",
          "height": 51
        }
      },
      "cell_type": "code",
      "source": [
        "#printing best 3 fold cross validation score and parameters\n",
        "print(\"Best CV 3 params\", dt_random3.best_params_)\n",
        "print(\"Best CV 3 accuracy\", dt_random3.best_score_)"
      ],
      "execution_count": 0,
      "outputs": [
        {
          "output_type": "stream",
          "text": [
            "Best CV 3 params {'min_samples_split': 110, 'max_depth': 15}\n",
            "Best CV 3 accuracy 0.5413834466213514\n"
          ],
          "name": "stdout"
        }
      ]
    },
    {
      "metadata": {
        "id": "d2XHRmAquHYh",
        "colab_type": "code",
        "colab": {}
      },
      "cell_type": "code",
      "source": [
        "#extract best estimator from 3-fold Randomized Search CV\n",
        "dt_best3 = dt_random3.best_estimator_"
      ],
      "execution_count": 0,
      "outputs": []
    },
    {
      "metadata": {
        "id": "Pw5JSl4fuHWJ",
        "colab_type": "code",
        "outputId": "5563bb8c-7a20-4166-c477-b62e1ea80c21",
        "colab": {
          "base_uri": "https://localhost:8080/",
          "height": 326
        }
      },
      "cell_type": "code",
      "source": [
        "#use the random grid to search for best hyperparameters\n",
        "dt_random10 = RandomizedSearchCV(estimator = dt, param_distributions = parameters, n_iter = 50, cv = 10, verbose=2, random_state=42, n_jobs = -1)\n",
        "#uit the random search model\n",
        "dt_random10.fit(X_train, y_train)"
      ],
      "execution_count": 0,
      "outputs": [
        {
          "output_type": "stream",
          "text": [
            "Fitting 10 folds for each of 50 candidates, totalling 500 fits\n"
          ],
          "name": "stdout"
        },
        {
          "output_type": "stream",
          "text": [
            "/usr/local/lib/python3.6/dist-packages/sklearn/model_selection/_split.py:652: Warning: The least populated class in y has only 5 members, which is too few. The minimum number of members in any class cannot be less than n_splits=10.\n",
            "  % (min_groups, self.n_splits)), Warning)\n",
            "[Parallel(n_jobs=-1)]: Using backend LokyBackend with 2 concurrent workers.\n",
            "[Parallel(n_jobs=-1)]: Done 114 tasks      | elapsed:    5.1s\n",
            "[Parallel(n_jobs=-1)]: Done 500 out of 500 | elapsed:   22.3s finished\n"
          ],
          "name": "stderr"
        },
        {
          "output_type": "execute_result",
          "data": {
            "text/plain": [
              "RandomizedSearchCV(cv=10, error_score='raise-deprecating',\n",
              "          estimator=DecisionTreeClassifier(class_weight=None, criterion='gini', max_depth=None,\n",
              "            max_features=None, max_leaf_nodes=None,\n",
              "            min_impurity_decrease=0.0, min_impurity_split=None,\n",
              "            min_samples_leaf=1, min_samples_split=2,\n",
              "            min_weight_fraction_leaf=0.0, presort=False, random_state=None,\n",
              "            splitter='best'),\n",
              "          fit_params=None, iid='warn', n_iter=50, n_jobs=-1,\n",
              "          param_distributions={'min_samples_split': range(10, 500, 20), 'max_depth': range(1, 20, 2)},\n",
              "          pre_dispatch='2*n_jobs', random_state=42, refit=True,\n",
              "          return_train_score='warn', scoring=None, verbose=2)"
            ]
          },
          "metadata": {
            "tags": []
          },
          "execution_count": 17
        }
      ]
    },
    {
      "metadata": {
        "id": "63lqNXOvvbjQ",
        "colab_type": "text"
      },
      "cell_type": "markdown",
      "source": [
        "**CV=10**"
      ]
    },
    {
      "metadata": {
        "id": "yvo5Jq0MuHRk",
        "colab_type": "code",
        "outputId": "b896384f-e100-4ae2-b615-6abe56dfd38f",
        "colab": {
          "base_uri": "https://localhost:8080/",
          "height": 51
        }
      },
      "cell_type": "code",
      "source": [
        "#printing best 10 fold cross validation score and parameters\n",
        "print(\"Best CV 10 params\", dt_random10.best_params_)\n",
        "print(\"Best CV 10 accuracy\", dt_random10.best_score_)"
      ],
      "execution_count": 0,
      "outputs": [
        {
          "output_type": "stream",
          "text": [
            "Best CV 10 params {'min_samples_split': 190, 'max_depth': 13}\n",
            "Best CV 10 accuracy 0.5429028388644542\n"
          ],
          "name": "stdout"
        }
      ]
    },
    {
      "metadata": {
        "id": "ReBjHvN7ud_W",
        "colab_type": "code",
        "colab": {}
      },
      "cell_type": "code",
      "source": [
        "#extract best estimator from 10-fold Randomized Search CV\n",
        "dt_best10 = dt_random10.best_estimator_"
      ],
      "execution_count": 0,
      "outputs": []
    },
    {
      "metadata": {
        "id": "TLTymwmSRM3d",
        "colab_type": "text"
      },
      "cell_type": "markdown",
      "source": [
        "###Bagging Classifier"
      ]
    },
    {
      "metadata": {
        "id": "DWyOqYLS61P7",
        "colab_type": "text"
      },
      "cell_type": "markdown",
      "source": [
        "We then fit a bagging classifier using the best decision tree model form cv3, predicted on the test set and computed the accuracy getting an accuracy of 0.609\n",
        "\n",
        "We also fit a bagging classifier using the best decision tree from cv10, predicted on the rest set and computed the accuracy getting an accuracy of 0.599.\n",
        "\n",
        "Again, this is consistent with our earlier decision to go with 3fold cross validated decision tree as the base estimator.\n"
      ]
    },
    {
      "metadata": {
        "id": "n3CVx3u2UJmn",
        "colab_type": "code",
        "colab": {}
      },
      "cell_type": "code",
      "source": [
        "#setup arrays to store train and test accuracies\n",
        "estimators = [10, 20, 50, 100, 200, 500]\n",
        "train_accuracy = np.empty(len(estimators))\n",
        "test_accuracy = np.empty(len(estimators))\n",
        "\n",
        "#loop over different values of k\n",
        "for i, k in enumerate(estimators):\n",
        "    #setup a Random forest Classifier with k estimators: clf\n",
        "    bcf = BaggingClassifier(n_estimators=k)\n",
        "\n",
        "    #fit the classifier to the training data\n",
        "    bcf.fit(X_train, y_train)\n",
        "    \n",
        "    #compute accuracy on the training set\n",
        "    train_accuracy[i] = bcf.score(X_train, y_train)\n",
        "\n",
        "    #compute accuracy on the testing set\n",
        "    test_accuracy[i] = bcf.score(X_test, y_test)\n",
        "    \n",
        "    #generate plot\n",
        "plt.title('Baggingt: Varying Number of estimators')\n",
        "plt.plot(estimators, test_accuracy, label = 'Testing Accuracy')\n",
        "plt.plot(estimators, train_accuracy, label = 'Training Accuracy')\n",
        "plt.legend()\n",
        "plt.xlabel('Number of estimators')\n",
        "plt.ylabel('Accuracy')\n",
        "plt.show()"
      ],
      "execution_count": 0,
      "outputs": []
    },
    {
      "metadata": {
        "id": "uUC3Ir7z0mj3",
        "colab_type": "text"
      },
      "cell_type": "markdown",
      "source": [
        "![alt text](https://github.com/samirakazemi/SCS_3253_010_Machine_Learning_Final_Project/blob/master/plots/baggging.PNG?raw=true)"
      ]
    },
    {
      "metadata": {
        "id": "T7MjXdu3vpMB",
        "colab_type": "text"
      },
      "cell_type": "markdown",
      "source": [
        "**CV=3**"
      ]
    },
    {
      "metadata": {
        "id": "G5VNigamT5fm",
        "colab_type": "code",
        "colab": {}
      },
      "cell_type": "code",
      "source": [
        "bc3 = BaggingClassifier(base_estimator=dt_best3, n_estimators=500, n_jobs=-1)"
      ],
      "execution_count": 0,
      "outputs": []
    },
    {
      "metadata": {
        "id": "EyY_Dvh-zeKl",
        "colab_type": "code",
        "outputId": "62f7ec22-84da-4f88-d451-cbfa36a29955",
        "colab": {
          "base_uri": "https://localhost:8080/",
          "height": 170
        }
      },
      "cell_type": "code",
      "source": [
        "#fit Bagging Classifier using 3-fold cross validated Decision Tree as the base estimator\n",
        "bc3.fit(X_train, y_train)"
      ],
      "execution_count": 0,
      "outputs": [
        {
          "output_type": "execute_result",
          "data": {
            "text/plain": [
              "BaggingClassifier(base_estimator=DecisionTreeClassifier(class_weight=None, criterion='gini', max_depth=15,\n",
              "            max_features=None, max_leaf_nodes=None,\n",
              "            min_impurity_decrease=0.0, min_impurity_split=None,\n",
              "            min_samples_leaf=1, min_samples_split=110,\n",
              "            min_weight_fraction_leaf=0.0, presort=False, random_state=None,\n",
              "            splitter='best'),\n",
              "         bootstrap=True, bootstrap_features=False, max_features=1.0,\n",
              "         max_samples=1.0, n_estimators=500, n_jobs=-1, oob_score=False,\n",
              "         random_state=None, verbose=0, warm_start=False)"
            ]
          },
          "metadata": {
            "tags": []
          },
          "execution_count": 21
        }
      ]
    },
    {
      "metadata": {
        "id": "5wlRhjrXzgOQ",
        "colab_type": "code",
        "colab": {}
      },
      "cell_type": "code",
      "source": [
        "y_pred3=bc3.predict(X_test)\n",
        "accuracy3 = accuracy_score(y_test, y_pred3)\n",
        "print('Accuracy of Bagging Classifier using 3 fold cross validated Decision Tree: {:.3f}'.format(accuracy3))"
      ],
      "execution_count": 0,
      "outputs": []
    },
    {
      "metadata": {
        "id": "JI5uo1R9vyuD",
        "colab_type": "text"
      },
      "cell_type": "markdown",
      "source": [
        "**CV=10**"
      ]
    },
    {
      "metadata": {
        "id": "8F49pDjiznNK",
        "colab_type": "code",
        "colab": {}
      },
      "cell_type": "code",
      "source": [
        "bc10 = BaggingClassifier(base_estimator=dt_best10, n_estimators=500, n_jobs=-1)\n",
        "#fit Bagging Classifier using 10-fold cross validated Decision Tree as the base estimator\n",
        "bc10.fit(X_train, y_train)"
      ],
      "execution_count": 0,
      "outputs": []
    },
    {
      "metadata": {
        "id": "6UFzTHv8zvCW",
        "colab_type": "code",
        "colab": {}
      },
      "cell_type": "code",
      "source": [
        "y_pred10=bc10.predict(X_test)\n",
        "accuracy10 = accuracy_score(y_test, y_pred10)\n",
        "print('Accuracy of Bagging Classifier using 10 fold cross validated Decision Tree: {:.3f}'.format(accuracy10))"
      ],
      "execution_count": 0,
      "outputs": []
    },
    {
      "metadata": {
        "id": "n7SHT6rdRUye",
        "colab_type": "text"
      },
      "cell_type": "markdown",
      "source": [
        "###AdaBoost Classifier"
      ]
    },
    {
      "metadata": {
        "id": "diaSAAsR65Dw",
        "colab_type": "text"
      },
      "cell_type": "markdown",
      "source": [
        "Here we run a for loop to iter through a list of n_estimators and compute the accuracy of the adaboost classifier accordingly.\n",
        "\n",
        "We choose n_estimators=20 as there doesn’t seem to be a difference in accuracy as we increase the number of estimators.\n",
        "\n",
        "We then fit the ABD classifier using our 3 fold cross validated decision tree and compute the accuracy which turns out to be 0.513.\n",
        "\n",
        "We also fit it using our 10 fold cross validated decision tree and compute the accuracy to find out it’s 0.491, so again, we are better off using our 3 fold cross validated decision tree as our base estimator.\n"
      ]
    },
    {
      "metadata": {
        "id": "8B5iRq6fzzX5",
        "colab_type": "code",
        "outputId": "1fe2456a-5c8e-4b72-d2f1-6dc064cdebaf",
        "colab": {
          "base_uri": "https://localhost:8080/",
          "height": 295
        }
      },
      "cell_type": "code",
      "source": [
        "#setup arrays to store train and test accuracies\n",
        "estimators = [10, 20, 50, 70, 100]\n",
        "train_accuracy = np.empty(len(estimators))\n",
        "test_accuracy = np.empty(len(estimators))\n",
        "\n",
        "#loop over different values of k\n",
        "for i, k in enumerate(estimators):\n",
        "    #setup a Random forest Classifier with k estimators: clf\n",
        "    adb_clf = AdaBoostClassifier(n_estimators=k)\n",
        "\n",
        "    #fit the classifier to the training data\n",
        "    adb_clf.fit(X_train, y_train)\n",
        "    \n",
        "    #compute accuracy on the training set\n",
        "    train_accuracy[i] = adb_clf.score(X_train, y_train)\n",
        "\n",
        "    #compute accuracy on the testing set\n",
        "    test_accuracy[i] = adb_clf.score(X_test, y_test)\n",
        "    \n",
        "    #generate plot\n",
        "plt.title('AdaBoost: Varying Number of estimators')\n",
        "plt.plot(estimators, test_accuracy, label = 'Testing Accuracy')\n",
        "plt.plot(estimators, train_accuracy, label = 'Training Accuracy')\n",
        "plt.legend()\n",
        "plt.xlabel('Number of estimators')\n",
        "plt.ylabel('Accuracy')\n",
        "plt.show()"
      ],
      "execution_count": 0,
      "outputs": [
        {
          "output_type": "display_data",
          "data": {
            "image/png": "[encoded data removed]",
            "text/plain": [
              "<Figure size 432x288 with 1 Axes>"
            ]
          },
          "metadata": {
            "tags": []
          }
        }
      ]
    },
    {
      "metadata": {
        "id": "9agJ922swIUa",
        "colab_type": "text"
      },
      "cell_type": "markdown",
      "source": [
        "**CV=3**"
      ]
    },
    {
      "metadata": {
        "id": "hDfR0OG6VjiD",
        "colab_type": "code",
        "colab": {}
      },
      "cell_type": "code",
      "source": [
        "adb3 = AdaBoostClassifier(base_estimator=dt_best3, n_estimators=20)\n",
        "adb3.fit(X_train, y_train)"
      ],
      "execution_count": 0,
      "outputs": []
    },
    {
      "metadata": {
        "id": "p8T68J5sz23p",
        "colab_type": "code",
        "colab": {}
      },
      "cell_type": "code",
      "source": [
        "y_pred_adb3=adb3.predict(X_test)\n",
        "accuracyadb3 = accuracy_score(y_test, y_pred_adb3)\n",
        "print('Accuracy of 3 fold CV AdaBoost Classifier: {:.3f}'.format(accuracyadb3))"
      ],
      "execution_count": 0,
      "outputs": []
    },
    {
      "metadata": {
        "id": "oAGpjY99whQz",
        "colab_type": "text"
      },
      "cell_type": "markdown",
      "source": [
        "Accuracy of 3 fold CV AdaBoost Classifier: 0.513"
      ]
    },
    {
      "metadata": {
        "id": "oLrCrEr7wTqi",
        "colab_type": "text"
      },
      "cell_type": "markdown",
      "source": [
        "**CV=10**"
      ]
    },
    {
      "metadata": {
        "id": "UtZ1Nr3mwSxY",
        "colab_type": "code",
        "colab": {}
      },
      "cell_type": "code",
      "source": [
        "adb10 = AdaBoostClassifier(base_estimator=dt_best10, n_estimators=20)\n",
        "adb10.fit(X_train, y_train)"
      ],
      "execution_count": 0,
      "outputs": []
    },
    {
      "metadata": {
        "id": "ym2jtThZz8zT",
        "colab_type": "code",
        "colab": {}
      },
      "cell_type": "code",
      "source": [
        "y_pred_adb10=adb10.predict(X_test)\n",
        "accuracyadb10 = accuracy_score(y_test, y_pred_adb10)\n",
        "print('Accuracy of 10 fold CV AdaBoost Classifier: {:.3f}'.format(accuracyadb10))"
      ],
      "execution_count": 0,
      "outputs": []
    },
    {
      "metadata": {
        "id": "Q5iszbw_wUZ3",
        "colab_type": "text"
      },
      "cell_type": "markdown",
      "source": [
        "Accuracy of 10 fold CV AdaBoost Classifier:  0.491"
      ]
    },
    {
      "metadata": {
        "id": "HM_9LZmTReqo",
        "colab_type": "text"
      },
      "cell_type": "markdown",
      "source": [
        "###Gradient Boosting Classifier"
      ]
    },
    {
      "metadata": {
        "id": "t5Iuzc7W6_Rp",
        "colab_type": "text"
      },
      "cell_type": "markdown",
      "source": [
        "Here we print the parameters used by our current model. We then set a parameter grid with values for hyper parameter tuning.\n",
        "\n",
        "We then run a RandomizedSearchCV using our parameter with 3-fold CV and fit it to our training data to get the best hyperparameters for our model.\n",
        "\n",
        "We then print the best parameters and extract the best model and use it to predict on X_test.\n",
        "\n",
        "We bring the accuracy getting a training accuracy of … and a test accuracy of …\n",
        "\n",
        "We did not run 10-fold CV randomized search as it took way too long to run for this dataset.\n"
      ]
    },
    {
      "metadata": {
        "id": "J8NTkZd-z9kC",
        "colab_type": "code",
        "colab": {}
      },
      "cell_type": "code",
      "source": [
        "clf = GradientBoostingClassifier(random_state = 13)\n",
        "from pprint import pprint\n",
        "#Look at parameters used by our current forest\n",
        "print('Parameters currently in use:\\n')\n",
        "pprint(clf.get_params())"
      ],
      "execution_count": 0,
      "outputs": []
    },
    {
      "metadata": {
        "id": "gllQWbcMz9vA",
        "colab_type": "code",
        "outputId": "0e48ac72-9b1b-40e7-e2c4-bfa023cbec4f",
        "colab": {
          "base_uri": "https://localhost:8080/",
          "height": 102
        }
      },
      "cell_type": "code",
      "source": [
        "#number of trees in random forest\n",
        "n_estimators = [10, 20, 50]\n",
        "#number of features to consider at every split\n",
        "max_features = ['auto', 'sqrt']\n",
        "#maximum number of levels in tree\n",
        "max_depth = [10, 20, 50]\n",
        "max_depth.append(None)\n",
        "#minimum number of samples required to split a node\n",
        "min_samples_split = [2, 5, 10]\n",
        "#minimum number of samples required at each leaf node\n",
        "min_samples_leaf = [1, 2, 4]\n",
        "#create the random grid\n",
        "random_grid1 = {'n_estimators': n_estimators,\n",
        "               'max_features': max_features,\n",
        "               'max_depth': max_depth,\n",
        "               'min_samples_split': min_samples_split,\n",
        "               'min_samples_leaf': min_samples_leaf}\n",
        "pprint(random_grid1)"
      ],
      "execution_count": 0,
      "outputs": [
        {
          "output_type": "stream",
          "text": [
            "{'max_depth': [10, 20, 50, None],\n",
            " 'max_features': ['auto', 'sqrt'],\n",
            " 'min_samples_leaf': [1, 2, 4],\n",
            " 'min_samples_split': [2, 5, 10],\n",
            " 'n_estimators': [10, 20, 50]}\n"
          ],
          "name": "stdout"
        }
      ]
    },
    {
      "metadata": {
        "id": "DkNlq4ziz9zd",
        "colab_type": "code",
        "outputId": "afed4934-3ec0-4d1d-c1f1-3905b97822de",
        "colab": {
          "base_uri": "https://localhost:8080/",
          "height": 326
        }
      },
      "cell_type": "code",
      "source": [
        "#use the random grid to search for best hyperparameters\n",
        "#first create the base model to tune\n",
        "clf = GradientBoostingClassifier()\n",
        "#random search of parameters, using 3 fold cross validation, \n",
        "#search across 100 different combinations, and use all available cores\n",
        "clf_random = RandomizedSearchCV(estimator = clf, param_distributions = random_grid1, n_iter = 50, cv = 3, verbose=2, random_state=42, n_jobs = -1)\n",
        "#fit the random search model\n",
        "clf_random.fit(X_train, y_train)"
      ],
      "execution_count": 0,
      "outputs": [
        {
          "output_type": "stream",
          "text": [
            "Fitting 3 folds for each of 50 candidates, totalling 150 fits\n"
          ],
          "name": "stdout"
        },
        {
          "output_type": "stream",
          "text": [
            "[Parallel(n_jobs=-1)]: Using backend LokyBackend with 2 concurrent workers.\n",
            "/usr/local/lib/python3.6/dist-packages/sklearn/externals/joblib/externals/loky/process_executor.py:706: UserWarning: A worker stopped while some jobs were given to the executor. This can be caused by a too short worker timeout or by a memory leak.\n",
            "  \"timeout or by a memory leak.\", UserWarning\n",
            "[Parallel(n_jobs=-1)]: Done  37 tasks      | elapsed: 32.6min\n",
            "[Parallel(n_jobs=-1)]: Done 150 out of 150 | elapsed: 173.6min finished\n"
          ],
          "name": "stderr"
        },
        {
          "output_type": "execute_result",
          "data": {
            "text/plain": [
              "RandomizedSearchCV(cv=3, error_score='raise-deprecating',\n",
              "          estimator=GradientBoostingClassifier(criterion='friedman_mse', init=None,\n",
              "              learning_rate=0.1, loss='deviance', max_depth=3,\n",
              "              max_features=None, max_leaf_nodes=None,\n",
              "              min_impurity_decrease=0.0, min_impurity_split=None,\n",
              "              min_samples_leaf=1, min_sampl...      subsample=1.0, tol=0.0001, validation_fraction=0.1,\n",
              "              verbose=0, warm_start=False),\n",
              "          fit_params=None, iid='warn', n_iter=50, n_jobs=-1,\n",
              "          param_distributions={'n_estimators': [10, 20, 50], 'max_features': ['auto', 'sqrt'], 'max_depth': [10, 20, 50, None], 'min_samples_split': [2, 5, 10], 'min_samples_leaf': [1, 2, 4]},\n",
              "          pre_dispatch='2*n_jobs', random_state=42, refit=True,\n",
              "          return_train_score='warn', scoring=None, verbose=2)"
            ]
          },
          "metadata": {
            "tags": []
          },
          "execution_count": 45
        }
      ]
    },
    {
      "metadata": {
        "id": "LcjVribC0Fdd",
        "colab_type": "code",
        "outputId": "4aa0d8f5-4be9-4e8e-c2f4-b15639aaf76e",
        "colab": {
          "base_uri": "https://localhost:8080/",
          "height": 164
        }
      },
      "cell_type": "code",
      "source": [
        "clf_random.best_params_"
      ],
      "execution_count": 0,
      "outputs": [
        {
          "output_type": "error",
          "ename": "NameError",
          "evalue": "ignored",
          "traceback": [
            "\u001b[0;31m---------------------------------------------------------------------------\u001b[0m",
            "\u001b[0;31mNameError\u001b[0m                                 Traceback (most recent call last)",
            "\u001b[0;32m<ipython-input-1-346a445a535e>\u001b[0m in \u001b[0;36m<module>\u001b[0;34m()\u001b[0m\n\u001b[0;32m----> 1\u001b[0;31m \u001b[0mclf_random\u001b[0m\u001b[0;34m.\u001b[0m\u001b[0mbest_params_\u001b[0m\u001b[0;34m\u001b[0m\u001b[0;34m\u001b[0m\u001b[0m\n\u001b[0m",
            "\u001b[0;31mNameError\u001b[0m: name 'clf_random' is not defined"
          ]
        }
      ]
    },
    {
      "metadata": {
        "id": "BxevKeb20Fh2",
        "colab_type": "code",
        "outputId": "78eadbbd-29bb-41a4-84f8-52f3052d73f3",
        "colab": {
          "base_uri": "https://localhost:8080/",
          "height": 232
        }
      },
      "cell_type": "code",
      "source": [
        "best_clf = clf_random.best_estimator_\n",
        "\n",
        "y_pred13=best_clf.predict(X_test)\n",
        "print('Testing Accuracy with 3 fold CV = {:0.2f}%.'.format((best_clf.score(X_test, y_test)*100)))\n",
        "print('Training Accuracy with 3 fold CV = {:0.2f}%.'.format((best_clf.score(X_train, y_train)*100)))"
      ],
      "execution_count": 0,
      "outputs": [
        {
          "output_type": "error",
          "ename": "NameError",
          "evalue": "ignored",
          "traceback": [
            "\u001b[0;31m---------------------------------------------------------------------------\u001b[0m",
            "\u001b[0;31mNameError\u001b[0m                                 Traceback (most recent call last)",
            "\u001b[0;32m<ipython-input-2-ee3a589e8ac2>\u001b[0m in \u001b[0;36m<module>\u001b[0;34m()\u001b[0m\n\u001b[0;32m----> 1\u001b[0;31m \u001b[0mbest_clf\u001b[0m \u001b[0;34m=\u001b[0m \u001b[0mclf_random\u001b[0m\u001b[0;34m.\u001b[0m\u001b[0mbest_estimator_\u001b[0m\u001b[0;34m\u001b[0m\u001b[0;34m\u001b[0m\u001b[0m\n\u001b[0m\u001b[1;32m      2\u001b[0m \u001b[0mclf_accuracy\u001b[0m \u001b[0;34m=\u001b[0m \u001b[0mevaluate\u001b[0m\u001b[0;34m(\u001b[0m\u001b[0mbest_clf\u001b[0m\u001b[0;34m,\u001b[0m \u001b[0mX_test\u001b[0m\u001b[0;34m,\u001b[0m \u001b[0my_test\u001b[0m\u001b[0;34m)\u001b[0m\u001b[0;34m\u001b[0m\u001b[0;34m\u001b[0m\u001b[0m\n\u001b[1;32m      3\u001b[0m \u001b[0;34m\u001b[0m\u001b[0m\n\u001b[1;32m      4\u001b[0m \u001b[0my_pred13\u001b[0m\u001b[0;34m=\u001b[0m\u001b[0mbest_clf\u001b[0m\u001b[0;34m.\u001b[0m\u001b[0mpredict\u001b[0m\u001b[0;34m(\u001b[0m\u001b[0mX_test\u001b[0m\u001b[0;34m)\u001b[0m\u001b[0;34m\u001b[0m\u001b[0;34m\u001b[0m\u001b[0m\n\u001b[1;32m      5\u001b[0m \u001b[0mprint\u001b[0m\u001b[0;34m(\u001b[0m\u001b[0;34m'Testing Accuracy = {:0.2f}%.'\u001b[0m\u001b[0;34m.\u001b[0m\u001b[0mformat\u001b[0m\u001b[0;34m(\u001b[0m\u001b[0;34m(\u001b[0m\u001b[0mbest_clf\u001b[0m\u001b[0;34m.\u001b[0m\u001b[0mscore\u001b[0m\u001b[0;34m(\u001b[0m\u001b[0mX_test\u001b[0m\u001b[0;34m,\u001b[0m \u001b[0my_test\u001b[0m\u001b[0;34m)\u001b[0m\u001b[0;34m*\u001b[0m\u001b[0;36m100\u001b[0m\u001b[0;34m)\u001b[0m\u001b[0;34m)\u001b[0m\u001b[0;34m)\u001b[0m\u001b[0;34m\u001b[0m\u001b[0;34m\u001b[0m\u001b[0m\n",
            "\u001b[0;31mNameError\u001b[0m: name 'clf_random' is not defined"
          ]
        }
      ]
    },
    {
      "metadata": {
        "id": "fr_bk7Mzq61l",
        "colab_type": "text"
      },
      "cell_type": "markdown",
      "source": [
        "### MLP"
      ]
    },
    {
      "metadata": {
        "id": "7sm4Ble81MI1",
        "colab_type": "text"
      },
      "cell_type": "markdown",
      "source": [
        "We decided to try and use Multilayered Perceptrons on the dataset as well. We went this model as it is an artificial neural network that tends to perform well on classification problems, and with tabular data. It also performs well as a base neural network model. We found that with this model, both cv3 and cv10 perform exceptionally well (~99%), but when looking at the distribution of the predictions, we noticed that cv3 seems to be doing better on cards with higher strengths."
      ]
    },
    {
      "metadata": {
        "id": "8nlcDmCCsuF6",
        "colab_type": "text"
      },
      "cell_type": "markdown",
      "source": [
        "CV = 3"
      ]
    },
    {
      "metadata": {
        "id": "kLgCoZ8qrB3W",
        "colab_type": "code",
        "colab": {}
      },
      "cell_type": "code",
      "source": [
        "from sklearn.neural_network import MLPClassifier\n",
        "from sklearn.model_selection import RandomizedSearchCV\n",
        "\n",
        "params_grid = {\n",
        "    'hidden_layer_sizes': [(50,50,50), (50,100,50), (100,)],\n",
        "    'activation': ['tanh', 'relu'],\n",
        "    'solver': ['sgd', 'adam'],\n",
        "    'alpha': [0.0001, 0.05],\n",
        "    'learning_rate': ['constant','adaptive'],\n",
        "}\n",
        "\n",
        "mlp = MLPClassifier()\n",
        "\n",
        "mlp_cv3 = RandomizedSearchCV(estimator = mlp, param_distributions = params_grid, cv = 3, n_jobs = -1, verbose = 2, random_state =seed)\n",
        "\n",
        "mlp_cv3.fit(X_train, y_train)"
      ],
      "execution_count": 0,
      "outputs": []
    },
    {
      "metadata": {
        "id": "Yun62H3crdeU",
        "colab_type": "text"
      },
      "cell_type": "markdown",
      "source": [
        "Fitting 3 folds for each of 10 candidates, totalling 30 fits\n",
        "[Parallel(n_jobs=-1)]: Using backend LokyBackend with 2 concurrent workers.\n",
        "[Parallel(n_jobs=-1)]: Done  30 out of  30 | elapsed: 32.6min finished\n",
        "/usr/local/lib/python3.6/dist-packages/sklearn/neural_network/multilayer_perceptron.py:562: ConvergenceWarning: Stochastic Optimizer: Maximum iterations (200) reached and the optimization hasn't converged yet.\n",
        "  % self.max_iter, ConvergenceWarning)\n",
        "RandomizedSearchCV(cv=3, error_score='raise-deprecating',\n",
        "          estimator=MLPClassifier(activation='relu', alpha=0.0001, batch_size='auto', beta_1=0.9,\n",
        "       beta_2=0.999, early_stopping=False, epsilon=1e-08,\n",
        "       hidden_layer_sizes=(100,), learning_rate='constant',\n",
        "       learning_rate_init=0.001, max_iter=200, momentum=0.9,\n",
        "       n_iter_no_change=10, nesterovs_momentum=True, power_t=0.5,\n",
        "       random_state=None, shuffle=True, solver='adam', tol=0.0001,\n",
        "       validation_fraction=0.1, verbose=False, warm_start=False),\n",
        "          fit_params=None, iid='warn', n_iter=10, n_jobs=-1,\n",
        "          param_distributions={'hidden_layer_sizes': [(50, 50, 50), (50, 100, 50), (100,)], 'activation': ['tanh', 'relu'], 'solver': ['sgd', 'adam'], 'alpha': [0.0001, 0.05], 'learning_rate': ['constant', 'adaptive']},\n",
        "          pre_dispatch='2*n_jobs', random_state=42, refit=True,\n",
        "          return_train_score='warn', scoring=None, verbose=2)"
      ]
    },
    {
      "metadata": {
        "id": "PIjCzCoFrj5C",
        "colab_type": "code",
        "colab": {}
      },
      "cell_type": "code",
      "source": [
        "mlp_cv3.get_params_"
      ],
      "execution_count": 0,
      "outputs": []
    },
    {
      "metadata": {
        "id": "BtpHUBoTrjA7",
        "colab_type": "text"
      },
      "cell_type": "markdown",
      "source": [
        "{'activation': 'tanh',\n",
        "\n",
        "\n",
        "\n",
        " 'alpha': 0.05,\n",
        "\n",
        "\n",
        " 'hidden_layer_sizes': (50, 100, 50),\n",
        "\n",
        "\n",
        "\n",
        " 'learning_rate': 'adaptive',\n",
        "\n",
        "\n",
        "\n",
        " 'solver': 'adam'}"
      ]
    },
    {
      "metadata": {
        "id": "CQes2qHirnWy",
        "colab_type": "code",
        "colab": {}
      },
      "cell_type": "code",
      "source": [
        "mlp_cv3.get_score_"
      ],
      "execution_count": 0,
      "outputs": []
    },
    {
      "metadata": {
        "id": "wh7QmDtcrnmP",
        "colab_type": "text"
      },
      "cell_type": "markdown",
      "source": [
        "0.9534586165533786"
      ]
    },
    {
      "metadata": {
        "id": "FyMK9J8brB6v",
        "colab_type": "code",
        "colab": {}
      },
      "cell_type": "code",
      "source": [
        "y_pred_mlp3 = clf.predict(X_test)"
      ],
      "execution_count": 0,
      "outputs": []
    },
    {
      "metadata": {
        "id": "nOgQbm6brB97",
        "colab_type": "code",
        "colab": {}
      },
      "cell_type": "code",
      "source": [
        "acc_mlp3 = accuracy_score(y_test, y_pred_mlp3)\n",
        "print(acc_mlp3)"
      ],
      "execution_count": 0,
      "outputs": []
    },
    {
      "metadata": {
        "id": "f0GEeZBwr6Bu",
        "colab_type": "text"
      },
      "cell_type": "markdown",
      "source": [
        "0.993452"
      ]
    },
    {
      "metadata": {
        "id": "tbAvVGyMrCN3",
        "colab_type": "code",
        "colab": {}
      },
      "cell_type": "code",
      "source": [
        "plt.plot(y_test, 'bo', label='actual')\n",
        "plt.plot(y_pred_mlp3, 'ro', label='predicted')\n",
        "plt.legend()\n",
        "plt.show()"
      ],
      "execution_count": 0,
      "outputs": []
    },
    {
      "metadata": {
        "id": "Q4aI1QcEu6C7",
        "colab_type": "text"
      },
      "cell_type": "markdown",
      "source": [
        "![alt text](https://github.com/samirakazemi/SCS_3253_010_Machine_Learning_Final_Project/blob/master/plots/mlp%20cv3.PNG?raw=true)"
      ]
    },
    {
      "metadata": {
        "id": "TKtLRWelsqoD",
        "colab_type": "text"
      },
      "cell_type": "markdown",
      "source": [
        "CV = 10"
      ]
    },
    {
      "metadata": {
        "id": "T12MysR7rCQ6",
        "colab_type": "code",
        "colab": {}
      },
      "cell_type": "code",
      "source": [
        "from sklearn.neural_network import MLPClassifier\n",
        "from sklearn.model_selection import RandomizedSearchCV\n",
        "\n",
        "params_grid = {\n",
        "    'hidden_layer_sizes': [(50,50,50), (50,100,50), (100,)],\n",
        "    'activation': ['tanh', 'relu'],\n",
        "    'solver': ['sgd', 'adam'],\n",
        "    'alpha': [0.0001, 0.05],\n",
        "    'learning_rate': ['constant','adaptive'],\n",
        "}\n",
        "\n",
        "mlp = MLPClassifier()\n",
        "\n",
        "mlp_cv10 = RandomizedSearchCV(estimator = mlp, param_distributions = params_grid, cv = 10, n_jobs = -1, verbose = 2, random_state =seed)\n",
        "\n",
        "mlp_cv10.fit(X_train, y_train)"
      ],
      "execution_count": 0,
      "outputs": []
    },
    {
      "metadata": {
        "id": "oc75QKsetAdD",
        "colab_type": "text"
      },
      "cell_type": "markdown",
      "source": [
        "Fitting 10 folds for each of 10 candidates, totalling 100 fits\n",
        "/usr/local/lib/python3.6/dist-packages/sklearn/model_selection/_split.py:652: Warning: The least populated class in y has only 5 members, which is too few. The minimum number of members in any class cannot be less than n_splits=10.\n",
        "  % (min_groups, self.n_splits)), Warning)\n",
        "[Parallel(n_jobs=-1)]: Using backend LokyBackend with 2 concurrent workers.\n",
        "[Parallel(n_jobs=-1)]: Done  37 tasks      | elapsed: 66.6min\n",
        "[Parallel(n_jobs=-1)]: Done 100 out of 100 | elapsed: 212.2min finished\n",
        "/usr/local/lib/python3.6/dist-packages/sklearn/neural_network/multilayer_perceptron.py:562: ConvergenceWarning: Stochastic Optimizer: Maximum iterations (200) reached and the optimization hasn't converged yet.\n",
        "  % self.max_iter, ConvergenceWarning)\n",
        "RandomizedSearchCV(cv=10, error_score='raise-deprecating',\n",
        "          estimator=MLPClassifier(activation='relu', alpha=0.0001, batch_size='auto', beta_1=0.9,\n",
        "       beta_2=0.999, early_stopping=False, epsilon=1e-08,\n",
        "       hidden_layer_sizes=(100,), learning_rate='constant',\n",
        "       learning_rate_init=0.001, max_iter=200, momentum=0.9,\n",
        "       n_iter_no_change=10, nesterovs_momentum=True, power_t=0.5,\n",
        "       random_state=None, shuffle=True, solver='adam', tol=0.0001,\n",
        "       validation_fraction=0.1, verbose=False, warm_start=False),\n",
        "          fit_params=None, iid='warn', n_iter=10, n_jobs=-1,\n",
        "          param_distributions={'hidden_layer_sizes': [(50, 50, 50), (50, 100, 50), (100,)], 'activation': ['tanh', 'relu'], 'solver': ['sgd', 'adam'], 'alpha': [0.0001, 0.05], 'learning_rate': ['constant', 'adaptive']},\n",
        "          pre_dispatch='2*n_jobs', random_state=42, refit=True,\n",
        "          return_train_score='warn', scoring=None, verbose=2)\n",
        "\n"
      ]
    },
    {
      "metadata": {
        "id": "Gl11E4Ujtkn7",
        "colab_type": "code",
        "colab": {}
      },
      "cell_type": "code",
      "source": [
        "mlp_cv10.best_params_ "
      ],
      "execution_count": 0,
      "outputs": []
    },
    {
      "metadata": {
        "id": "OjwTCD4dtk0-",
        "colab_type": "text"
      },
      "cell_type": "markdown",
      "source": [
        "{'activation': 'tanh',\n",
        " 'alpha': 0.05,\n",
        " 'hidden_layer_sizes': (50, 100, 50),\n",
        " 'learning_rate': 'adaptive',\n",
        " 'solver': 'adam'}"
      ]
    },
    {
      "metadata": {
        "id": "ZniHeXRHtk_Q",
        "colab_type": "code",
        "colab": {}
      },
      "cell_type": "code",
      "source": [
        "mlp_cv10.best_score_ "
      ],
      "execution_count": 0,
      "outputs": []
    },
    {
      "metadata": {
        "id": "HfVxevbxtlHG",
        "colab_type": "text"
      },
      "cell_type": "markdown",
      "source": [
        "0.9935225909636145"
      ]
    },
    {
      "metadata": {
        "id": "DPcDT0dDtO7m",
        "colab_type": "code",
        "colab": {}
      },
      "cell_type": "code",
      "source": [
        "y_pred_mlp10 = mlp_cv10.predict(X_test)"
      ],
      "execution_count": 0,
      "outputs": []
    },
    {
      "metadata": {
        "id": "qxsqdPnvtcpZ",
        "colab_type": "code",
        "colab": {}
      },
      "cell_type": "code",
      "source": [
        "acc_mlp10 = accuracy_score(y_test, y_pred_10)\n",
        "print(acc_mlp10)"
      ],
      "execution_count": 0,
      "outputs": []
    },
    {
      "metadata": {
        "id": "Irqgp1SNtgRB",
        "colab_type": "text"
      },
      "cell_type": "markdown",
      "source": [
        "0.994437"
      ]
    },
    {
      "metadata": {
        "id": "JZxBF8B9tw9j",
        "colab_type": "code",
        "colab": {}
      },
      "cell_type": "code",
      "source": [
        "plt.plot(y_test, 'bo', label='actual')\n",
        "plt.plot(y_pred_mlp10, 'ro', label='predicted')\n",
        "plt.legend()\n",
        "plt.show()"
      ],
      "execution_count": 0,
      "outputs": []
    },
    {
      "metadata": {
        "id": "Lt8pxX50u0Kz",
        "colab_type": "text"
      },
      "cell_type": "markdown",
      "source": [
        "![alt text](https://github.com/samirakazemi/SCS_3253_010_Machine_Learning_Final_Project/blob/master/plots/mlp%20cv10.PNG?raw=true)"
      ]
    }
  ]
}